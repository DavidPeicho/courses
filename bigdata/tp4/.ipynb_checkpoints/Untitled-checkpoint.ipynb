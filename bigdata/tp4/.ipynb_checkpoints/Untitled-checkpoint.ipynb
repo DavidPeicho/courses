{
 "cells": [
  {
   "cell_type": "markdown",
   "metadata": {},
   "source": [
    "# TP 4 - Approximate Nearest Neighbours"
   ]
  },
  {
   "cell_type": "markdown",
   "metadata": {},
   "source": [
    "### OHSUMED Loading"
   ]
  },
  {
   "cell_type": "code",
   "execution_count": 200,
   "metadata": {
    "collapsed": true
   },
   "outputs": [],
   "source": [
    "import matplotlib.pyplot as plot\n",
    "import mmh3\n",
    "import os\n",
    "import random\n",
    "import re\n",
    "import sys"
   ]
  },
  {
   "cell_type": "code",
   "execution_count": 201,
   "metadata": {
    "collapsed": true
   },
   "outputs": [],
   "source": [
    "ROOT_DIR = 'ohsumed-first-20000-docs'\n",
    "\n",
    "def load(folder_path, nb_files):\n",
    "    loaded = []\n",
    "    for root, subFolders, files in os.walk(folder_path):\n",
    "        for f in files:\n",
    "            if nb_files == 0:\n",
    "                return loaded\n",
    "            path = os.path.join(root, f)\n",
    "            with open(path, \"r\") as doc:\n",
    "                loaded.append(doc.read())\n",
    "            nb_files = nb_files - 1\n",
    "    return loaded\n",
    "\n",
    "raw_documents = load(ROOT_DIR, 1000)"
   ]
  },
  {
   "cell_type": "markdown",
   "metadata": {},
   "source": [
    "### Convert document to pseudo one-hot"
   ]
  },
  {
   "cell_type": "code",
   "execution_count": 202,
   "metadata": {
    "collapsed": true
   },
   "outputs": [],
   "source": [
    "def process_documents(documents):\n",
    "    \"\"\"Converts a document to a set structure.\n",
    "    \n",
    "    This will allows to easily perform set operations,\n",
    "    such as intersection or union.\n",
    "    \n",
    "    \"\"\"\n",
    "    \n",
    "    processed = []\n",
    "    for doc in documents:\n",
    "        # We split the doc on any english separator\n",
    "        split = re.split(\"[.,; ><()\\t\\n\\!?:]+\", doc)\n",
    "        # We filtered anything that is not a correct word. e.g: \"àà&à&é\".\n",
    "        filtered = list(filter(\n",
    "            lambda x: not(re.search('[a-zA-Z0-9]', x) is None),\n",
    "            split\n",
    "        ))\n",
    "        # Creates a set from the filtered list.\n",
    "        processed.append(set(filtered))\n",
    "    \n",
    "    return processed"
   ]
  },
  {
   "cell_type": "code",
   "execution_count": 203,
   "metadata": {
    "collapsed": true
   },
   "outputs": [],
   "source": [
    "documents = process_documents(raw_documents)"
   ]
  },
  {
   "cell_type": "markdown",
   "metadata": {},
   "source": [
    "### KKN functions\n",
    "\n",
    "The functions below can be used with Jaccard or MinHash, by juste passing the reference to the function."
   ]
  },
  {
   "cell_type": "code",
   "execution_count": 148,
   "metadata": {
    "collapsed": true
   },
   "outputs": [],
   "source": [
    "def knn_basic(k, doc_id, documents, dist_func):\n",
    "        \"\"\"Returns the `k' nearest neighbours of a given\n",
    "        document id, in a given documents list.\n",
    "        \n",
    "        This function makes pair-wise test, it can be heavy.\n",
    "        \n",
    "        This function can be used with MinHash dist, or Jaccard dist.\n",
    "        \n",
    "        \"\"\"\n",
    "        \n",
    "        nb_docs = len(documents)\n",
    "        target_doc = documents[doc_id]\n",
    "        # In order to reduce memory usage, we will not\n",
    "        # keep **every** distance and sort them before returning\n",
    "        # the result. We will only store the knn directly and\n",
    "        # keep the result sorted.\n",
    "        # The tuple contains (distance, doc_id)\n",
    "        knn = [[1.1, -1] for i in range(0, k)]\n",
    "        for i in range(0, nb_docs):\n",
    "            # We make sure we do not take our doc\n",
    "            # into account when applying knn.\n",
    "            if not(doc_id == i):\n",
    "                dist = dist_func(target_doc, documents[i])\n",
    "                if dist < knn[k - 1][0]:\n",
    "                    knn[k - 1][0] = dist\n",
    "                    knn[k - 1][1] = i\n",
    "                    knn = sorted(knn)\n",
    "                  \n",
    "        # Extracts only document id\n",
    "        result = []\n",
    "        for i in range(0, k):\n",
    "            result.append(knn[i][1])\n",
    "        return result"
   ]
  },
  {
   "cell_type": "markdown",
   "metadata": {},
   "source": [
    "## Jaccard"
   ]
  },
  {
   "cell_type": "code",
   "execution_count": 149,
   "metadata": {
    "collapsed": true
   },
   "outputs": [],
   "source": [
    "class Jaccard:\n",
    "    @staticmethod\n",
    "    def distance(doc1, doc2):\n",
    "        \"\"\"Computes the Jaccard distance of two documents.\n",
    "\n",
    "        \"\"\"\n",
    "        \n",
    "        intersection_size = len(set.intersection(doc1, doc2))\n",
    "        union_size = len(set.union(doc1, doc2))\n",
    "        return 1.0 - (intersection_size / union_size)"
   ]
  },
  {
   "cell_type": "markdown",
   "metadata": {},
   "source": [
    "##### Test with two documents"
   ]
  },
  {
   "cell_type": "code",
   "execution_count": 150,
   "metadata": {},
   "outputs": [
    {
     "name": "stdout",
     "output_type": "stream",
     "text": [
      "Test with two random documents:\n",
      "Jaccard distance: 0.9482758620689655\n",
      "\n",
      "Test with twice the same document:\n",
      "Jaccard distance: 0.0\n"
     ]
    }
   ],
   "source": [
    "nb_documents = len(documents)\n",
    "doc1 = documents[random.randint(0, nb_documents)]\n",
    "doc2 = documents[random.randint(0, nb_documents)]\n",
    "print('Test with two random documents:')\n",
    "print('Jaccard distance: {}'.format(Jaccard.distance(doc1, doc2)))\n",
    "print()\n",
    "print('Test with twice the same document:')\n",
    "print('Jaccard distance: {}'.format(Jaccard.distance(doc1, doc1)))"
   ]
  },
  {
   "cell_type": "markdown",
   "metadata": {},
   "source": [
    "## MinHash"
   ]
  },
  {
   "cell_type": "code",
   "execution_count": 198,
   "metadata": {},
   "outputs": [],
   "source": [
    "class MinHash:\n",
    "    @staticmethod\n",
    "    def convert(doc, nb_hash):\n",
    "        \"\"\"Computes the min hashing of a single document.\n",
    "\n",
    "        \"\"\"\n",
    "        \n",
    "        # The __hash_factor is used just to provide a little\n",
    "        # more randomness to the hash seeds\n",
    "        hash_factor = random.randint(0, 1000)\n",
    "        \n",
    "        min_hash = [sys.maxsize for i in range(0, nb_hash)]\n",
    "        for word in doc:\n",
    "            for i in range(0, nb_hash):\n",
    "                seed = i * 1000\n",
    "                hash_val = mmh3.hash(word, seed)\n",
    "                min_hash[i] = min(min_hash[i], hash_val)\n",
    "                \n",
    "        return min_hash\n",
    "    \n",
    "    def distance(doc1_hash, doc2_hash):\n",
    "        \"\"\"Computes the distance between two MinHash\n",
    "\n",
    "        \"\"\"\n",
    "        \n",
    "        if len(doc1_hash) != len(doc2_hash):\n",
    "            raise ValueError('Doc1 and Doc2 should have an equal MinHash size.')\n",
    "        \n",
    "        dist = 0\n",
    "        for i in range(0, len(doc1_hash)):\n",
    "            dist = dist + 1 if doc1_hash[i] == doc2_hash[i] else dist\n",
    "            \n",
    "        # We take the opposite probability in order to have\n",
    "        # the same kind of probabilty that Jaccard output.\n",
    "        return 1.0 - (dist / len(doc1_hash))\n",
    "    \n",
    "    def convert_and_dist(nb_hash, doc1, doc2):\n",
    "        \"\"\" This function is just a wrapper calling `convert'\n",
    "        and `distance'.\n",
    "        \n",
    "        \"\"\"\n",
    "        doc1_hash = MinHash.convert(doc1, nb_hash)\n",
    "        doc2_hash = MinHash.convert(doc2, nb_hash)\n",
    "        \n",
    "        return MinHash.distance(doc1_hash, doc2_hash)"
   ]
  },
  {
   "cell_type": "markdown",
   "metadata": {},
   "source": [
    "#### Test with two documents"
   ]
  },
  {
   "cell_type": "code",
   "execution_count": 199,
   "metadata": {},
   "outputs": [
    {
     "name": "stdout",
     "output_type": "stream",
     "text": [
      "Test with two random documents:\n",
      "Min hash distance: 0.86\n",
      "\n",
      "Test with twice the same document:\n",
      "Min hash distance: 0.0\n"
     ]
    }
   ],
   "source": [
    "doc1 = documents[random.randint(0, nb_documents)]\n",
    "doc2 = documents[random.randint(0, nb_documents)]\n",
    "\n",
    "min_hash1 = MinHash.convert(doc1, 100)\n",
    "min_hash2 = MinHash.convert(doc2, 100)\n",
    "\n",
    "print('Test with two random documents:')\n",
    "print('Min hash distance: {}'.format(MinHash.distance(min_hash1, min_hash2)))\n",
    "print()\n",
    "print('Test with twice the same document:')\n",
    "print('Min hash distance: {}'.format(MinHash.distance(min_hash2, min_hash2)))"
   ]
  },
  {
   "cell_type": "markdown",
   "metadata": {},
   "source": [
    "### Test both distance with same documents"
   ]
  },
  {
   "cell_type": "code",
   "execution_count": 189,
   "metadata": {},
   "outputs": [
    {
     "name": "stdout",
     "output_type": "stream",
     "text": [
      "Jaccard distance: 0.9121621621621622\n",
      "\n",
      "MinHash distance: 0.9\n"
     ]
    }
   ],
   "source": [
    "doc1 = documents[random.randint(0, nb_documents - 1)]\n",
    "doc2 = documents[random.randint(0, nb_documents - 1)]\n",
    "\n",
    "min_hash1 = MinHash.convert(doc1, 50)\n",
    "min_hash2 = MinHash.convert(doc2, 50)\n",
    "\n",
    "print('Jaccard distance: {}'.format(Jaccard.distance(doc1, doc2)))\n",
    "print()\n",
    "print('MinHash distance: {}'.format(MinHash.distance(min_hash1, min_hash2)))"
   ]
  },
  {
   "cell_type": "markdown",
   "metadata": {},
   "source": [
    "### KNN function with Jaccard distance"
   ]
  },
  {
   "cell_type": "code",
   "execution_count": 194,
   "metadata": {
    "collapsed": true
   },
   "outputs": [],
   "source": [
    "# We will test the KNN with the same target document,\n",
    "# in order to be sure that it works correctly.\n",
    "target_doc_id = random.randint(0, nb_documents)"
   ]
  },
  {
   "cell_type": "code",
   "execution_count": 195,
   "metadata": {},
   "outputs": [
    {
     "name": "stdout",
     "output_type": "stream",
     "text": [
      "10 nearest document id's:\n"
     ]
    },
    {
     "data": {
      "text/plain": [
       "[5, 4, 20, 47, 57, 75, 6, 21, 97, 18]"
      ]
     },
     "execution_count": 195,
     "metadata": {},
     "output_type": "execute_result"
    }
   ],
   "source": [
    "print('10 nearest document id\\'s:')\n",
    "knn_basic(10, target_doc_id, documents, Jaccard.distance)"
   ]
  },
  {
   "cell_type": "markdown",
   "metadata": {},
   "source": [
    "### KNNMinHash"
   ]
  },
  {
   "cell_type": "code",
   "execution_count": 197,
   "metadata": {},
   "outputs": [
    {
     "name": "stdout",
     "output_type": "stream",
     "text": [
      "10 nearest document id's:\n"
     ]
    },
    {
     "data": {
      "text/plain": [
       "[5, 75, 97, 26, 30, 47, 2, 20, 57, 74]"
      ]
     },
     "execution_count": 197,
     "metadata": {},
     "output_type": "execute_result"
    }
   ],
   "source": [
    "# Bind the number of hash function is order to use the knn_basic function\n",
    "# more easily. If we do not make this, we canno't use the knn_basic function,\n",
    "# because we will call the MinHash.convert_and_dist with an argument missing.\n",
    "\n",
    "def minhash_dist_bind(doc1, doc2):\n",
    "    return MinHash.convert_and_dist(50, doc1, doc2)\n",
    "\n",
    "print('10 nearest document id\\'s:')\n",
    "knn_basic(10, target_doc_id, documents, minhash_dist_bind)"
   ]
  },
  {
   "cell_type": "markdown",
   "metadata": {
    "collapsed": true
   },
   "source": [
    "## Jaccard VS MinHash"
   ]
  },
  {
   "cell_type": "code",
   "execution_count": 206,
   "metadata": {},
   "outputs": [
    {
     "ename": "SyntaxError",
     "evalue": "unexpected EOF while parsing (<ipython-input-206-d0961aa6c632>, line 24)",
     "output_type": "error",
     "traceback": [
      "\u001b[1;36m  File \u001b[1;32m\"<ipython-input-206-d0961aa6c632>\"\u001b[1;36m, line \u001b[1;32m24\u001b[0m\n\u001b[1;33m    \u001b[0m\n\u001b[1;37m    ^\u001b[0m\n\u001b[1;31mSyntaxError\u001b[0m\u001b[1;31m:\u001b[0m unexpected EOF while parsing\n"
     ]
    }
   ],
   "source": [
    "def profile(n_batch, k_batch, doc_batch, title):\n",
    "    \n",
    "    plot.title(title)\n",
    "    plot.xlabel('Number of neighbours for the KNN')\n",
    "    plot.ylabel('% error between Jaccard and MinHash')\n",
    "    \n",
    "    nb_docs = len(doc_batch)\n",
    "    \n",
    "    def nb_similar(list_a, list_b):\n",
    "        return len(set.intersecion(set(list_a), set(list_b)))\n",
    "    \n",
    "    # Computes Jaccard first, as we do not need\n",
    "    # To loop over `n_batch' for this one.\n",
    "    jaccard_distances = []\n",
    "    for i in range(0, nb_docs):\n",
    "        distances = []\n",
    "        for k in k_batch:\n",
    "            distances.append(\n",
    "                knn_basic(k, i, doc_batch, Jaccard.distance)\n",
    "            )\n",
    "        jaccard_distances.append(distances)\n",
    "    \n",
    "    # Computes MinHash and plot similarity with Jaccard\n",
    "    for n in n_batch:\n",
    "        def minhash_dist(doc1, doc2):\n",
    "            return MinHash.convert_and_dist(n, doc1, doc2)\n",
    "        similitudes = []\n",
    "        for k_idx in range(0, len(k_batch)):\n",
    "            k = k_batch[k_idx]\n",
    "            similitude = 0\n",
    "            for i in range(0, nb_docs):\n",
    "                knn = knn_basic(k, i, doc_batch, minhash_dist)\n",
    "                similitude = similitude + nb_similar(knn, jaccard_distances[i][k_idx])\n",
    "            similitudes.append(similitude = similitude / (len(k_batch) * nb_docs))\n",
    "        plot.plot(k_batch, similitudes, label='toto')    \n",
    "    \n",
    "    plot.legend(loc='upper right')\n",
    "    plot.show()"
   ]
  },
  {
   "cell_type": "markdown",
   "metadata": {},
   "source": [
    "### MinHash BruteForce vs Jaccard"
   ]
  },
  {
   "cell_type": "code",
   "execution_count": null,
   "metadata": {
    "collapsed": true
   },
   "outputs": [],
   "source": []
  }
 ],
 "metadata": {
  "kernelspec": {
   "display_name": "Python 3",
   "language": "python",
   "name": "python3"
  },
  "language_info": {
   "codemirror_mode": {
    "name": "ipython",
    "version": 3
   },
   "file_extension": ".py",
   "mimetype": "text/x-python",
   "name": "python",
   "nbconvert_exporter": "python",
   "pygments_lexer": "ipython3",
   "version": "3.6.2"
  }
 },
 "nbformat": 4,
 "nbformat_minor": 2
}
