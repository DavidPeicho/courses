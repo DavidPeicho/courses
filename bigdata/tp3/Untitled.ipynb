{
 "cells": [
  {
   "cell_type": "markdown",
   "metadata": {},
   "source": [
    "#### Indications\n",
    "\n",
    "For this TP, I will first make the implementation of each algorithm, and check the results with some english famous words and less famous word, in order to have a rough idea of whether it works or not.\n",
    "\n",
    "After that, I will simply compute the RMSE and ARE and draw some graphics in order to see how far I was from the real result."
   ]
  },
  {
   "cell_type": "code",
   "execution_count": 214,
   "metadata": {
    "collapsed": true
   },
   "outputs": [],
   "source": [
    "from sklearn.datasets import fetch_20newsgroups\n",
    "newsgroups_scikit_data = fetch_20newsgroups(subset='train')\n",
    "\n",
    "import math\n",
    "import matplotlib.pyplot as plot\n",
    "import mmh3\n",
    "import random\n",
    "import re\n",
    "import unicodedata"
   ]
  },
  {
   "cell_type": "code",
   "execution_count": 215,
   "metadata": {},
   "outputs": [
    {
     "name": "stdout",
     "output_type": "stream",
     "text": [
      "Number of documents found: 11314\n",
      "Example with document 0...\n",
      "\n",
      "-------- DOCUMENT 0 --------\n",
      "\n",
      "From: lerxst@wam.umd.edu (where's my thing)\n",
      "Subject: WHAT car is this!?\n",
      "Nntp-Posting-Host: rac3.wam.umd.edu\n",
      "Organization: University of Maryland, College Park\n",
      "Lines: 15\n",
      "\n",
      " I was wondering if anyone out there could enlighten me on this car I saw\n",
      "the other day. It was a 2-door sports car, looked to be from the late 60s/\n",
      "early 70s. It was called a Bricklin. The doors were really small. In addition,\n",
      "the front bumper was separate from the rest of the body. This is \n",
      "all I know. If anyone can tellme a model name, engine specs, years\n",
      "of production, where this car is made, history, or whatever info you\n",
      "have on this funky looking car, please e-mail.\n",
      "\n",
      "Thanks,\n",
      "- IL\n",
      "   ---- brought to you by your neighborhood Lerxst ----\n",
      "\n",
      "\n",
      "\n",
      "\n",
      "\n",
      "------ END DOCUMENT 0 ------\n"
     ]
    }
   ],
   "source": [
    "# We only need to save a list of all the 20newsgroup documents\n",
    "newsgroups = newsgroups_scikit_data.data\n",
    "\n",
    "# We make sure the loading is OK.\n",
    "print('Number of documents found: {}'.format(len(newsgroups)))\n",
    "print('Example with document 0...\\n')\n",
    "print('-------- DOCUMENT 0 --------\\n')\n",
    "print(newsgroups[0])\n",
    "print('------ END DOCUMENT 0 ------')\n",
    "\n",
    "# Here, we have a lot of documents. The processing will be really slow if we go through\n",
    "# the all newsgroups. We will split the dataset in a smaller piece.\n",
    "\n",
    "NB_DOCUMENTS = 200\n",
    "\n",
    "if len(newsgroups) > NB_DOCUMENTS:\n",
    "    newsgroups = newsgroups[:NB_DOCUMENTS]"
   ]
  },
  {
   "cell_type": "markdown",
   "metadata": {},
   "source": [
    "#### Preprocess the newsgroups to have hashable data"
   ]
  },
  {
   "cell_type": "code",
   "execution_count": 216,
   "metadata": {
    "collapsed": true
   },
   "outputs": [],
   "source": [
    "documents = []\n",
    "\n",
    "# We preprocesses the Newsgroups by first splitting the document\n",
    "# into a set of hashable word, and then by applying a normalizer.\n",
    "for doc in newsgroups:\n",
    "    words = re.split(\"[.,; ><()\\t\\n\\!?:]+\", doc)\n",
    "    for i in range (0, len(words)):\n",
    "        word = words[i]\n",
    "        unicode_str = unicodedata.normalize(\"NFKD\", word).encode(\"ascii\", \"ignore\")\n",
    "        words[i] = unicode_str.lower().decode(\"utf-8\")\n",
    "    documents.append(words)"
   ]
  },
  {
   "cell_type": "markdown",
   "metadata": {},
   "source": [
    "### Helper functions"
   ]
  },
  {
   "cell_type": "markdown",
   "metadata": {},
   "source": [
    "#### Compute the real count with a map (used for error checking)"
   ]
  },
  {
   "cell_type": "code",
   "execution_count": 217,
   "metadata": {
    "collapsed": true
   },
   "outputs": [],
   "source": [
    "def compute_perfect_count(documents):\n",
    "    \"\"\"This function compute the real count of each word.\n",
    "    \n",
    "    It does so by using a map and incrementing the counter each time\n",
    "    the word is seen. It is quite uneffective regarding memory consumption,\n",
    "    but will allows us to check the erros made by our algorithms.\n",
    "    \n",
    "    Parameters\n",
    "    ----------\n",
    "        \n",
    "    documents: Array[Array[String]]\n",
    "        The documents containing the word to count.\n",
    "    \n",
    "    \"\"\"\n",
    "    \n",
    "    perfect_count = {}\n",
    "    \n",
    "    for doc in documents:\n",
    "        for word in doc:\n",
    "            if word in perfect_count:\n",
    "                perfect_count[word] = perfect_count[word] + 1\n",
    "            else:\n",
    "                perfect_count[word] = 1\n",
    "\n",
    "    return perfect_count"
   ]
  },
  {
   "cell_type": "markdown",
   "metadata": {},
   "source": [
    "#### Compute the RMSE and ARE error"
   ]
  },
  {
   "cell_type": "code",
   "execution_count": 314,
   "metadata": {},
   "outputs": [],
   "source": [
    "#\n",
    "# We will use the below dictionnaries to easily switch between the two kind of errors.\n",
    "# Each error has its own threshold and function.\n",
    "#\n",
    "RMSE_ERROR = {\n",
    "    'func': lambda x, y : (x - y) ** 2,\n",
    "    'threshold': 1e-1\n",
    "}\n",
    "ARE_ERROR = {\n",
    "    'func': lambda x, y : ((x - y) / y) ** 2,\n",
    "    'threshold': 1e-3\n",
    "}\n",
    "\n",
    "def plot_error_profiling(d_batch, w_batch, perfect_count, documents,\n",
    "                         mode='default', inc_mode='default', err_type=\"RMSE\"):\n",
    "\n",
    "    \"\"\"Computes the error between the real count of each word and our approximation.\n",
    "    \n",
    "    Parameters\n",
    "    ----------\n",
    "        \n",
    "    d_batch: Array[int]\n",
    "        Provided batch of `d' values, e.g: [2, 4, 8].\n",
    "        \n",
    "    w_batch: Array[int]\n",
    "        Provided batch of `w' values, e.g: [75, 100, 500].\n",
    "        \n",
    "    perfect_count: Map[int]\n",
    "        Map containing the exact count of each word.\n",
    "        \n",
    "    documents: Array[Array[String]]\n",
    "        The documents we will use to train each CountMinSketch.\n",
    "        /!\\ Should be the same that as been used for perfect_count.\n",
    "        \n",
    "    mode: String\n",
    "        The mode to use when instanciating a new CountMinSketch.\n",
    "        \n",
    "    inc_mode: String\n",
    "        The mode to use when making an incrementation in a CountMinSketch.\n",
    "        \n",
    "    err_type: String\n",
    "        Error function used, can be 'RMSE' or 'ARE'\n",
    "    \n",
    "    \"\"\"\n",
    "\n",
    "    nb_words = len(perfect_count)\n",
    "    error_handler = RMSE_ERROR if err_type == \"RMSE\" else ARE_ERROR\n",
    "\n",
    "    plot.xscale('log')\n",
    "    plot.yscale('log')\n",
    "    plot.xlabel('Perfect size %')\n",
    "    plot.ylabel(err_type)\n",
    "    \n",
    "    # Plots the threshold line\n",
    "    min_w = min(w_batch)\n",
    "    max_w = max(w_batch)\n",
    "    err_threshold = error_handler['threshold']\n",
    "    plot.axhline(y=err_threshold, color='#8e44ad', linestyle='--',label='threshold ({})'.format(err_threshold))\n",
    "    \n",
    "    # The `selected_params' map is used to keep track of\n",
    "    # which combination of `d' and `w' allows us to reach the threshold.\n",
    "    selected_params = {}\n",
    "    \n",
    "    # We will start by creating all the combinations for d & w.\n",
    "    for d in d_batch:\n",
    "        \n",
    "        nb_bytes = 0\n",
    "        error_batch = []\n",
    "        x_axis = []\n",
    "        for w in w_batch:\n",
    "            # We train our counter\n",
    "            count_min = CountMinSketch(w, d, mode, inc_mode)\n",
    "            count_min.update(documents)\n",
    "            nb_bytes = d * w * 4\n",
    "            \n",
    "            error = 0\n",
    "            # We loop through each word to compute error\n",
    "            for word in perfect_count:\n",
    "                real_count = perfect_count[word]\n",
    "                approx_count = count_min.count(word)\n",
    "                error = error + error_handler['func'](approx_count, real_count)\n",
    "            \n",
    "            total_error = math.sqrt(error) / nb_words\n",
    "            error_batch.append(total_error)\n",
    "            \n",
    "            # If we finally reached the threshold with this `d' and `w' combination,\n",
    "            # we add it to our `selected_params' map.\n",
    "            if total_error < err_threshold and not(d in selected_params):\n",
    "                selected_params[d] = w\n",
    "            \n",
    "            x_axis.append(((w * d) / nb_words) * 100)\n",
    "            \n",
    "        # We have all the errors for our batch of w, we can plot them\n",
    "        # for the current value of `d'.\n",
    "        #plot.plot(w_batch, error_batch, label='d={} ({:.2f} kB max)'.format(d, nb_bytes / 1024.0))\n",
    "        plot.plot(x_axis, error_batch, label='d={} ({:.2f} kB max)'.format(d, nb_bytes / 1024.0))\n",
    "    \n",
    "    plot.legend(loc='upper right')\n",
    "    plot.show()\n",
    "    \n",
    "    return selected_params"
   ]
  },
  {
   "cell_type": "code",
   "execution_count": 315,
   "metadata": {
    "collapsed": true
   },
   "outputs": [],
   "source": [
    "def compare_words(CounterObject, word_a, word_b):\n",
    "    \"\"\"Compares two words and print the comparison on stdout.\"\"\"\n",
    "    \n",
    "    print('Comparing words `{}\\' and `{}\\'...'.format(word_a, word_b))\n",
    "    nb_occ_a = count_min.count(word_a)\n",
    "    nb_occ_b = count_min.count(word_b)\n",
    "    \n",
    "    most_used = None\n",
    "    less_used = None\n",
    "    factor = 0\n",
    "    if nb_occ_a > nb_occ_b:\n",
    "        nb_occ_b = 1 if nb_occ_b == 0 else nb_occ_b # This is gross, but it allows to avoid infinite values.\n",
    "        most_used = word_a\n",
    "        less_used = word_b\n",
    "        factor = nb_occ_a / nb_occ_b\n",
    "    else:\n",
    "        nb_occ_a = 1 if nb_occ_a == 0 else nb_occ_a # This is gross, but it allows to avoid infinite values.\n",
    "        most_used = word_b\n",
    "        less_used = word_a\n",
    "        factor = nb_occ_b / nb_occ_a\n",
    "    \n",
    "    print('Word `{}\\' is {:.2f} times more present than word `{}\\''.format(most_used, factor, less_used))"
   ]
  },
  {
   "cell_type": "code",
   "execution_count": 316,
   "metadata": {},
   "outputs": [],
   "source": [
    "def full_algorithm_profiling(d_batch, w_batch, perfect_count, documents, \n",
    "                             mode='default', inc_mode='default', err_type=\"RMSE\"):\n",
    "\n",
    "    \"\"\"This function is in charge of performing a full analysis of an algorithm.\n",
    "    \n",
    "    It will compute the errors, plot the graphs, and make an analysis\n",
    "    of the obtained data, that will be later printed to stdout.\n",
    "    \n",
    "    Parameters\n",
    "    ----------\n",
    "        \n",
    "    d_batch: Array[int]\n",
    "        Provided batch of `d' values, e.g: [2, 4, 8].\n",
    "        \n",
    "    w_batch: Array[int]\n",
    "        Provided batch of `w' values, e.g: [75, 100, 500].\n",
    "        \n",
    "    perfect_count: Map[int]\n",
    "        Map containing the exact count of each word.\n",
    "        \n",
    "    documents: Array[Array[String]]\n",
    "        The documents we will use to train each CountMinSketch.\n",
    "        /!\\ Should be the same that as been used for perfect_count.\n",
    "        \n",
    "    mode: String\n",
    "        The mode to use when instanciating a new CountMinSketch.\n",
    "        \n",
    "    inc_mode: String\n",
    "        The mode to use when making an incrementation in a CountMinSketch.\n",
    "    \n",
    "    err_type: String\n",
    "        Error function used, can be 'RMSE' or 'ARE'\n",
    "    \n",
    "    \"\"\"\n",
    "    \n",
    "    #\n",
    "    # Step 1: Compute the total amount of memory used by the perfect counting.\n",
    "    #\n",
    "    \n",
    "    # This is very approximative as Python is an interpreted language,\n",
    "    # and we do not have the certainty that an integer is encoded on 4 bytes.\n",
    "    perfect_counting_memory = (len(perfect_count) * 4) / 1024\n",
    "    \n",
    "    #\n",
    "    # Step 2: Plots the error graphs\n",
    "    #\n",
    "    params = plot_error_profiling(d_batch, w_batch, perfect_count, documents, mode, inc_mode, err_type)\n",
    "    \n",
    "    #\n",
    "    # Step 3: Explicit on stdout what are the best parameters. We keep only those\n",
    "    # having a lower memory consumption than the perfect counting.\n",
    "    #\n",
    "    \n",
    "    best_params = []\n",
    "    print('Total Perfect Counting memory consumption: {:.2f} kB\\n'.format(perfect_counting_memory))\n",
    "    print('Recap of what minimum value of `w\\' is needed with `d\\' to reach the threshold:')\n",
    "    for d in params:\n",
    "        w = params[d]\n",
    "        memory = (d * w * 4) / 1024\n",
    "        print('d = {}, w = {}, memory = {} kB'.format(d, w, memory))\n",
    "        if memory < perfect_counting_memory:\n",
    "            best_params.append((d, w, memory))\n",
    "            \n",
    "    #\n",
    "    # Step 4: final report on the parameters we kept\n",
    "    # according to their memory consumption.\n",
    "    #\n",
    "    print('')\n",
    "    if len(best_params) > 0:\n",
    "        print('All the parameters below have a lower memory footprint than the Perfect Counting:')\n",
    "        for elt in best_params:\n",
    "            memory_gain = (1.0 - (elt[2] / perfect_counting_memory)) * 100.0\n",
    "            str_format = 'd = {}, w = {}, memory = {} kB -> {:.2f}% saving'\n",
    "            print(str_format.format(elt[0], elt[1], elt[2], memory_gain))\n",
    "    else:\n",
    "        print('No parameters give lower memory footprint than Perfect Counting!')"
   ]
  },
  {
   "cell_type": "markdown",
   "metadata": {},
   "source": [
    "#### Compare two words together"
   ]
  },
  {
   "cell_type": "code",
   "execution_count": 317,
   "metadata": {},
   "outputs": [],
   "source": [
    "# We stores in the perfect_count variable the real count of each word.\n",
    "# It is cached and will later be used for error checking.\n",
    "\n",
    "perfect_count = compute_perfect_count(documents)"
   ]
  },
  {
   "cell_type": "code",
   "execution_count": 319,
   "metadata": {},
   "outputs": [],
   "source": [
    "class CountMinSketch:\n",
    "    \n",
    "    @staticmethod\n",
    "    def __build_seeds(nb):\n",
    "        \"\"\"Constructs an array of `nb' hash functions.\"\"\"\n",
    "        \n",
    "        # Generates random unique seeds first.\n",
    "        MIN_SEED = 1\n",
    "        MAX_SEED = 1000\n",
    "        seeds = random.sample(range(MIN_SEED, MAX_SEED), nb)        \n",
    "        return seeds\n",
    "    \n",
    "    def __init__(self, w, d, mode='default', inc_mode='default'):\n",
    "        self.__w = w;\n",
    "        self.__nb_hash = d;\n",
    "        self.__seeds = CountMinSketch.__build_seeds(self.__nb_hash)\n",
    "        self.__count = [[0 for x in range(self.__w)] for y in range(self.__nb_hash)]\n",
    "        \n",
    "        # We can change the behaviour of the update\n",
    "        # according to the mode value.\n",
    "        self.__mode = mode\n",
    "        self.__update = {}\n",
    "        self.__update['default'] = self.__update_default\n",
    "        self.__update['conservative'] = self.__update_conservative\n",
    "        \n",
    "        # Just like the update, we change the inc\n",
    "        # method according to the inc mode.\n",
    "        if inc_mode == 'default':\n",
    "            self.__inc = lambda x: x + 1\n",
    "        elif inc_mode == 'morris':\n",
    "            self.__inc = lambda x: x + 1 if random.randint(0, 5 ** (x + 1)) == 0 else x\n",
    "    \n",
    "    def __get_count_by_hash(self, word, hash_id):\n",
    "        \"\"\"Returns the count of a word for a given seed id.\"\"\"\n",
    "        \n",
    "        seed = self.__seeds[hash_id]\n",
    "        elt_idx = mmh3.hash(word, seed) % self.__w\n",
    "        \n",
    "        return self.__count[hash_id][elt_idx]\n",
    "    \n",
    "    def __update_default(self, word):\n",
    "        \"\"\"Updates the CountMinSketch structure with a single word.\n",
    "        This methold will be called only in default mode (non conservative)\n",
    "        \n",
    "        \"\"\"\n",
    "        \n",
    "        # Loops over every hash function\n",
    "        for i in range(0, self.__nb_hash):\n",
    "            s = self.__seeds[i]\n",
    "            # Computes the index of the word for this particular hash\n",
    "            idx = mmh3.hash(word, s) % self.__w\n",
    "            # Updates the table containing the total count\n",
    "            self.__count[i][idx] = self.__inc(self.__count[i][idx])\n",
    "            # self.__count[i][idx] = self.__count[i][idx] + 1\n",
    "            \n",
    "    def __update_conservative(self, word):\n",
    "        \"\"\"Updates the CountMinSketch structure with a single word.\n",
    "        This methold will be called only in conversative mode.\n",
    "        \n",
    "        \"\"\"\n",
    "        min_value = self.count(word)\n",
    "        # Loops over every hash function\n",
    "        for i in range(0, self.__nb_hash):\n",
    "            s = self.__seeds[i]\n",
    "            # Computes the index of the word for this particular hash\n",
    "            idx = mmh3.hash(word, s) % self.__w\n",
    "            # Updates the table only if it has minimum value\n",
    "            if (self.__count[i][idx] == min_value):\n",
    "                self.__count[i][idx] = self.__inc(self.__count[i][idx])\n",
    "                #self.__count[i][idx] = self.__count[i][idx] + 1\n",
    "        \n",
    "    def update_word(self, word):\n",
    "        \"\"\"Updates the CountMinSketch structure with a single word,\n",
    "        according to the selected mode.\n",
    "        \n",
    "        \"\"\"\n",
    "        self.__update[self.__mode](word)\n",
    "        \n",
    "            \n",
    "    def update(self, documents):\n",
    "        \"\"\"Updates the CountMinSketch structure with a batch of documents.\"\"\"\n",
    "        \n",
    "        # Loops over every provided documents\n",
    "        for doc in documents:\n",
    "            # Loops over every word\n",
    "            for word in doc:\n",
    "                self.update_word(word)\n",
    "                \n",
    "    def count(self, word):\n",
    "        \"\"\"Returns the estimated count of the given word.\"\"\"\n",
    "            \n",
    "        # Retrieves the count for each hash\n",
    "        counts = [self.__get_count_by_hash(word, i) for i in range(0, self.__nb_hash)]\n",
    "        return min(counts)"
   ]
  },
  {
   "cell_type": "markdown",
   "metadata": {},
   "source": [
    "# 1 - Basic Count-Min Sketch implementation"
   ]
  },
  {
   "cell_type": "markdown",
   "metadata": {},
   "source": [
    "### Test with popular words"
   ]
  },
  {
   "cell_type": "code",
   "execution_count": 320,
   "metadata": {},
   "outputs": [
    {
     "name": "stdout",
     "output_type": "stream",
     "text": [
      "Comparing words `the' and `direction'...\n",
      "Word `the' is 8.22 times more present than word `direction'\n",
      "\n",
      "Comparing words `the' and `a'...\n",
      "Word `the' is 1.92 times more present than word `a'\n"
     ]
    }
   ],
   "source": [
    "nb_hash_func = 5\n",
    "count_min_width = 100\n",
    "\n",
    "count_min = CountMinSketch(count_min_width, nb_hash_func)\n",
    "count_min.update(documents)\n",
    "\n",
    "compare_words(count_min, \"the\", \"direction\")\n",
    "print()\n",
    "compare_words(count_min, \"the\", \"a\")\n",
    "\n",
    "# As we may thought, the word `the' is a lot more present than the word 'direction`.\n",
    "# However, when checking the comparison between `the' and `a', we have a smaller difference of count."
   ]
  },
  {
   "cell_type": "markdown",
   "metadata": {},
   "source": [
    "### Errors"
   ]
  },
  {
   "cell_type": "code",
   "execution_count": 321,
   "metadata": {},
   "outputs": [
    {
     "name": "stdout",
     "output_type": "stream",
     "text": [
      "[64, 128, 256, 512, 1024, 2048, 4096, 8192]\n"
     ]
    }
   ],
   "source": [
    "# To check our errors, we will use the below data.\n",
    "d_batch = [2, 3, 5, 8]\n",
    "unique_words = len(perfect_count)\n",
    "w_max = int(math.log(unique_words, 2))\n",
    "start = int(0.5 * w_max)\n",
    "end = int(1.1 * w_max)\n",
    "w_batch = []\n",
    "for i in range(start, end):\n",
    "    w_batch.append(2 ** i)\n",
    "print(w_batch)"
   ]
  },
  {
   "cell_type": "markdown",
   "metadata": {
    "collapsed": true
   },
   "source": [
    "##### RSME"
   ]
  },
  {
   "cell_type": "code",
   "execution_count": 322,
   "metadata": {},
   "outputs": [
    {
     "data": {
      "image/png": "[encoded data removed]",
      "text/plain": [
       "<matplotlib.figure.Figure at 0x2304a9e4da0>"
      ]
     },
     "metadata": {},
     "output_type": "display_data"
    },
    {
     "name": "stdout",
     "output_type": "stream",
     "text": [
      "Total Perfect Counting memory consumption: 53.82 kB\n",
      "\n",
      "Recap of what minimum value of `w' is needed with `d' to reach the threshold:\n",
      "d = 2, w = 4096, memory = 32.0 kB\n",
      "d = 3, w = 2048, memory = 24.0 kB\n",
      "d = 5, w = 2048, memory = 40.0 kB\n",
      "d = 8, w = 2048, memory = 64.0 kB\n",
      "\n",
      "All the parameters below have a lower memory footprint than the Perfect Counting:\n",
      "d = 2, w = 4096, memory = 32.0 kB -> 40.54% saving\n",
      "d = 3, w = 2048, memory = 24.0 kB -> 55.40% saving\n",
      "d = 5, w = 2048, memory = 40.0 kB -> 25.67% saving\n"
     ]
    }
   ],
   "source": [
    "full_algorithm_profiling(d_batch, w_batch, perfect_count, documents, 'default', 'default', err_type=\"RMSE\")"
   ]
  },
  {
   "cell_type": "markdown",
   "metadata": {},
   "source": [
    "* Analysis\n",
    "\n",
    "Here, we can see that, as we thought, the error is converging to 0 when increasing **d** and **w**. The question that remains is whether we used too much memory or not to reach a pretty good error (a small error).\n",
    "\n",
    "As we can see on the output, it looks like with 3 hash functions and a width of 2048, we can obtain a <font color='red'>~55%%</font> memory save, while still reaching our threshold of <font color='blue'>0.1</font>"
   ]
  },
  {
   "cell_type": "markdown",
   "metadata": {
    "collapsed": true
   },
   "source": [
    "##### ARE"
   ]
  },
  {
   "cell_type": "code",
   "execution_count": 324,
   "metadata": {},
   "outputs": [
    {
     "data": {
      "image/png": "[encoded data removed]",
      "text/plain": [
       "<matplotlib.figure.Figure at 0x2304adeb4e0>"
      ]
     },
     "metadata": {},
     "output_type": "display_data"
    },
    {
     "name": "stdout",
     "output_type": "stream",
     "text": [
      "Total Perfect Counting memory consumption: 53.82 kB\n",
      "\n",
      "Recap of what minimum value of `w' is needed with `d' to reach the threshold:\n",
      "\n",
      "No parameters give lower memory footprint than Perfect Counting!\n"
     ]
    }
   ],
   "source": [
    "full_algorithm_profiling(d_batch, w_batch, perfect_count, documents, 'default', 'default', err_type=\"ARE\")"
   ]
  },
  {
   "cell_type": "markdown",
   "metadata": {},
   "source": [
    "* Analysis\n",
    "In order to reach our error goal of 0.001, we have to increase either the number of hash functions or the number of cells. However, pushing it will make our structure consumme more memory than the naïve implementation"
   ]
  },
  {
   "cell_type": "markdown",
   "metadata": {},
   "source": [
    "# 2 - Conservative Count-Min Sketch"
   ]
  },
  {
   "cell_type": "markdown",
   "metadata": {},
   "source": [
    "I implemented the conversative update by adding a **mode** to the CountMinSketch class"
   ]
  },
  {
   "cell_type": "markdown",
   "metadata": {},
   "source": [
    "### Test with popular words"
   ]
  },
  {
   "cell_type": "code",
   "execution_count": 325,
   "metadata": {},
   "outputs": [
    {
     "name": "stdout",
     "output_type": "stream",
     "text": [
      "Comparing words `the' and `direction'...\n",
      "Word `the' is 12.49 times more present than word `direction'\n",
      "\n",
      "Comparing words `the' and `a'...\n",
      "Word `the' is 2.35 times more present than word `a'\n"
     ]
    }
   ],
   "source": [
    "nb_hash_func = 5\n",
    "count_min_width = 100\n",
    "\n",
    "count_min = CountMinSketch(count_min_width, nb_hash_func, 'conservative')\n",
    "count_min.update(documents)\n",
    "\n",
    "compare_words(count_min, \"the\", \"direction\")\n",
    "print()\n",
    "compare_words(count_min, \"the\", \"a\")\n",
    "\n",
    "# As we may thought, the word `the' is a lot more present than the word 'direction`.\n",
    "# However, when checking the comparison between `the' and `a', we have a smaller difference of count."
   ]
  },
  {
   "cell_type": "markdown",
   "metadata": {},
   "source": [
    "### Errors"
   ]
  },
  {
   "cell_type": "code",
   "execution_count": 326,
   "metadata": {},
   "outputs": [
    {
     "name": "stdout",
     "output_type": "stream",
     "text": [
      "[64, 128, 256, 512, 1024, 2048, 4096, 8192]\n"
     ]
    }
   ],
   "source": [
    "# To check our errors, we will use the below data.\n",
    "d_batch = [2, 3, 5, 8]\n",
    "unique_words = len(perfect_count)\n",
    "w_max = int(math.log(unique_words, 2))\n",
    "start = int(0.5 * w_max)\n",
    "end = int(1.1 * w_max)\n",
    "w_batch = []\n",
    "for i in range(start, end):\n",
    "    w_batch.append(2 ** i)\n",
    "print(w_batch)"
   ]
  },
  {
   "cell_type": "markdown",
   "metadata": {},
   "source": [
    "##### RSME"
   ]
  },
  {
   "cell_type": "code",
   "execution_count": 327,
   "metadata": {},
   "outputs": [
    {
     "data": {
      "image/png": "[encoded data removed]",
      "text/plain": [
       "<matplotlib.figure.Figure at 0x23051451cc0>"
      ]
     },
     "metadata": {},
     "output_type": "display_data"
    },
    {
     "name": "stdout",
     "output_type": "stream",
     "text": [
      "Total Perfect Counting memory consumption: 53.82 kB\n",
      "\n",
      "Recap of what minimum value of `w' is needed with `d' to reach the threshold:\n",
      "d = 2, w = 2048, memory = 16.0 kB\n",
      "d = 3, w = 2048, memory = 24.0 kB\n",
      "d = 5, w = 1024, memory = 20.0 kB\n",
      "d = 8, w = 1024, memory = 32.0 kB\n",
      "\n",
      "All the parameters below have a lower memory footprint than the Perfect Counting:\n",
      "d = 2, w = 2048, memory = 16.0 kB -> 70.27% saving\n",
      "d = 3, w = 2048, memory = 24.0 kB -> 55.40% saving\n",
      "d = 5, w = 1024, memory = 20.0 kB -> 62.84% saving\n",
      "d = 8, w = 1024, memory = 32.0 kB -> 40.54% saving\n"
     ]
    }
   ],
   "source": [
    "full_algorithm_profiling(d_batch, w_batch, perfect_count, documents, 'conservative', 'default', err_type=\"RMSE\")"
   ]
  },
  {
   "cell_type": "markdown",
   "metadata": {},
   "source": [
    "* Analysis\n",
    "\n",
    "The converge is actually faster in conservative update. We can save up to <font color='red'>~60%</font> of memory compared to <font color='red'>~55%</font> with the previous technique."
   ]
  },
  {
   "cell_type": "markdown",
   "metadata": {},
   "source": [
    "##### ARE"
   ]
  },
  {
   "cell_type": "code",
   "execution_count": 329,
   "metadata": {},
   "outputs": [
    {
     "data": {
      "image/png": "[encoded data removed]",
      "text/plain": [
       "<matplotlib.figure.Figure at 0x2304ac11668>"
      ]
     },
     "metadata": {},
     "output_type": "display_data"
    },
    {
     "name": "stdout",
     "output_type": "stream",
     "text": [
      "Total Perfect Counting memory consumption: 53.82 kB\n",
      "\n",
      "Recap of what minimum value of `w' is needed with `d' to reach the threshold:\n",
      "\n",
      "No parameters give lower memory footprint than Perfect Counting!\n"
     ]
    }
   ],
   "source": [
    "full_algorithm_profiling(d_batch, w_batch, perfect_count, documents, 'conservative', 'default', err_type=\"ARE\")"
   ]
  },
  {
   "cell_type": "markdown",
   "metadata": {},
   "source": [
    "* Analysis\n",
    "\n",
    "As we saw it on the **RSME**, in conservative counting we can easily see that the converge is actually faster. The **ARE** error plotted just above shows us how we come close to a <font color='red'>0.001</font> error without adding more hash functions nor cells."
   ]
  },
  {
   "cell_type": "markdown",
   "metadata": {},
   "source": [
    "# 3 - Morris Count-Min Sketch"
   ]
  },
  {
   "cell_type": "markdown",
   "metadata": {},
   "source": [
    "Just like for the conservative version, I implemented the morris counting by adding a count **mode**."
   ]
  },
  {
   "cell_type": "code",
   "execution_count": 330,
   "metadata": {},
   "outputs": [
    {
     "name": "stdout",
     "output_type": "stream",
     "text": [
      "Comparing words `the' and `direction'...\n",
      "Word `the' is 2.00 times more present than word `direction'\n",
      "\n",
      "Comparing words `the' and `a'...\n",
      "Word `the' is 1.33 times more present than word `a'\n"
     ]
    }
   ],
   "source": [
    "nb_hash_func = 5\n",
    "count_min_width = 100\n",
    "\n",
    "count_min = CountMinSketch(count_min_width, nb_hash_func, 'conservative', 'morris')\n",
    "count_min.update(documents)\n",
    "\n",
    "compare_words(count_min, \"the\", \"direction\")\n",
    "print()\n",
    "compare_words(count_min, \"the\", \"a\")\n",
    "\n",
    "# As we may thought, the word `the' is a lot more present than the word 'direction`.\n",
    "# However, when checking the comparison between `the' and `a', we have a smaller difference of count."
   ]
  },
  {
   "cell_type": "markdown",
   "metadata": {},
   "source": [
    "Just Looking at the result above, we can see that the couting is really approximative. The gap between those comparisons is normally very high, which is not the case here."
   ]
  },
  {
   "cell_type": "markdown",
   "metadata": {},
   "source": [
    "### Errors"
   ]
  },
  {
   "cell_type": "code",
   "execution_count": 332,
   "metadata": {},
   "outputs": [
    {
     "name": "stdout",
     "output_type": "stream",
     "text": [
      "[64, 128, 256, 512, 1024, 2048, 4096, 8192]\n"
     ]
    }
   ],
   "source": [
    "# To check our errors, we will use the below data.\n",
    "d_batch = [2, 3, 5, 8]\n",
    "unique_words = len(perfect_count)\n",
    "w_max = int(math.log(unique_words, 2))\n",
    "start = int(0.5 * w_max)\n",
    "end = int(1.1 * w_max)\n",
    "w_batch = []\n",
    "for i in range(start, end):\n",
    "    w_batch.append(2 ** i)\n",
    "print(w_batch)"
   ]
  },
  {
   "cell_type": "markdown",
   "metadata": {},
   "source": [
    "##### RSME"
   ]
  },
  {
   "cell_type": "code",
   "execution_count": 333,
   "metadata": {},
   "outputs": [
    {
     "data": {
      "image/png": "[encoded data removed]",
      "text/plain": [
       "<matplotlib.figure.Figure at 0x2304ac2e9b0>"
      ]
     },
     "metadata": {},
     "output_type": "display_data"
    },
    {
     "name": "stdout",
     "output_type": "stream",
     "text": [
      "Total Perfect Counting memory consumption: 53.82 kB\n",
      "\n",
      "Recap of what minimum value of `w' is needed with `d' to reach the threshold:\n",
      "\n",
      "No parameters give lower memory footprint than Perfect Counting!\n"
     ]
    }
   ],
   "source": [
    "full_algorithm_profiling(d_batch, w_batch, perfect_count, documents, 'conservative', 'morris', err_type=\"RMSE\")"
   ]
  },
  {
   "cell_type": "markdown",
   "metadata": {},
   "source": [
    "* Analysis"
   ]
  },
  {
   "cell_type": "markdown",
   "metadata": {},
   "source": [
    "##### ARE"
   ]
  },
  {
   "cell_type": "markdown",
   "metadata": {},
   "source": [
    "* Analysis"
   ]
  },
  {
   "cell_type": "code",
   "execution_count": null,
   "metadata": {
    "collapsed": true
   },
   "outputs": [],
   "source": []
  }
 ],
 "metadata": {
  "kernelspec": {
   "display_name": "Python 3",
   "language": "python",
   "name": "python3"
  },
  "language_info": {
   "codemirror_mode": {
    "name": "ipython",
    "version": 3
   },
   "file_extension": ".py",
   "mimetype": "text/x-python",
   "name": "python",
   "nbconvert_exporter": "python",
   "pygments_lexer": "ipython3",
   "version": "3.6.2"
  }
 },
 "nbformat": 4,
 "nbformat_minor": 2
}
