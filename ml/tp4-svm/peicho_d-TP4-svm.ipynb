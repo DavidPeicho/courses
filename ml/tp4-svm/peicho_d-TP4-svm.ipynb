{
 "cells": [
  {
   "cell_type": "markdown",
   "metadata": {
    "collapsed": true
   },
   "source": [
    "# TP4 - Support Vector Machines"
   ]
  },
  {
   "cell_type": "markdown",
   "metadata": {},
   "source": [
    "## 1 Hard Margin SVM"
   ]
  },
  {
   "cell_type": "markdown",
   "metadata": {},
   "source": [
    "### MyHardMarginSVM"
   ]
  },
  {
   "cell_type": "code",
   "execution_count": 1,
   "metadata": {},
   "outputs": [],
   "source": [
    "import numpy as np\n",
    "import matplotlib.pyplot as plt\n",
    "import cvxopt as copt\n",
    "copt.solvers.options['show_progress'] = False"
   ]
  },
  {
   "cell_type": "markdown",
   "metadata": {},
   "source": [
    "* Some tests for this class"
   ]
  },
  {
   "cell_type": "code",
   "execution_count": 264,
   "metadata": {},
   "outputs": [],
   "source": [
    "class MyHardMarginSVM:\n",
    "   \n",
    "    def __init__(self):\n",
    "        self._gram_mat = None # Contains the Gram matrix weighted by the labels\n",
    "        self._lagranges = None # Contains the lagranges coefficients for each support vector\n",
    "        self._w = None # Direction of the hyperplane\n",
    "        self._bias = None # Contains the bias for each support vector\n",
    "\n",
    "    def _compute_gram(self, data_train, labels):\n",
    "        y = np.dot(labels.T, labels)\n",
    "        x = np.dot(data_train.T, data_train).astype(float)\n",
    "        return y * x;\n",
    "        \n",
    "    def train(self, data_train, labels):\n",
    "        # Small value for float comparisons\n",
    "        EPSILON = 1e-7\n",
    "        \n",
    "        self._gram_mat = self._compute_gram(data_train, labels)\n",
    "        \n",
    "        nb_samples = data_train.shape[1]\n",
    "        \n",
    "        #\n",
    "        # In order to use the cvxopt library, we have to convert\n",
    "        # numpy arrays to cvxopt matrices.\n",
    "        #\n",
    "        \n",
    "        gram = copt.matrix(self._gram_mat)\n",
    "        q = copt.matrix(-np.ones(nb_samples).T.astype(float))\n",
    "        G = copt.matrix(-np.identity(nb_samples).T.astype(float))\n",
    "        A = copt.matrix(labels.astype(float))\n",
    "        h = copt.matrix(np.zeros(nb_samples).T.astype(float))\n",
    "        b = copt.matrix(0.0)\n",
    "        \n",
    "        # Solves the dual problem using the cvxopt library\n",
    "        trained = copt.solvers.qp(gram, q, G, h, A, b)\n",
    "        \n",
    "        lagranges = np.ravel(np.array(trained['x']))\n",
    "        idx = (lagranges > EPSILON)\n",
    "        self._lagranges = lagranges[idx]\n",
    "        \n",
    "        y = labels[:, idx]\n",
    "        x = data_train[:, idx]\n",
    "        self._nb_sv = x.shape[0]\n",
    "        \n",
    "        self._w = np.sum(self._lagranges * y * x, axis=1).reshape(-1, 1)\n",
    "        self._bias = (1.0 / self._nb_sv) * np.sum(y - np.dot(self._w.T, x))\n",
    "\n",
    "    def decision(self, data):\n",
    "        return np.dot(self._w.T, data) + self._bias\n",
    "        \n",
    "    def process(self, data):\n",
    "        dot = np.dot(self._w.T, data) + self._bias\n",
    "        return np.sign(dot)\n",
    "        \n",
    "    def bias_get(self):\n",
    "        return self._bias\n",
    "        \n",
    "    def lagrange_coeffs(self):\n",
    "        return self._lagranges\n",
    "    \n",
    "    def get_nb_sv(self):\n",
    "        return self._lagranges.shape[0]\n",
    "        \n",
    "    def print_2Ddecision(self, bounds, print_sv=True, print_non_sv=False):\n",
    "        raise NotImplementedError"
   ]
  },
  {
   "cell_type": "code",
   "execution_count": 265,
   "metadata": {},
   "outputs": [
    {
     "data": {
      "text/plain": [
       "array([[ 1., -1., -1.]])"
      ]
     },
     "execution_count": 265,
     "metadata": {},
     "output_type": "execute_result"
    }
   ],
   "source": [
    "data = np.array([1, 2, 3]).reshape(1, 3)\n",
    "labels = np.array([-1, 1, 1]).reshape(1, 3)\n",
    "\n",
    "# Trains the SVM\n",
    "hard_margin_svm = MyHardMarginSVM()\n",
    "hard_margin_svm.train(data, labels)\n",
    "\n",
    "# Test it on one sample\n",
    "hard_margin_svm.decision(5)\n",
    "\n",
    "# Test it on a set of samples\n",
    "test_data = np.array([5, 0, -2]).reshape(1, 3)\n",
    "excepted_labels = [1, -1, -1]\n",
    "\n",
    "hard_margin_svm.process(test_data)\n"
   ]
  },
  {
   "cell_type": "markdown",
   "metadata": {},
   "source": [
    "### 1.1 Very Tiny Toy"
   ]
  },
  {
   "cell_type": "code",
   "execution_count": 266,
   "metadata": {},
   "outputs": [
    {
     "data": {
      "text/plain": [
       "array([[ 1.99999986]])"
      ]
     },
     "execution_count": 266,
     "metadata": {},
     "output_type": "execute_result"
    }
   ],
   "source": [
    "data = np.array([1, 2, 3]).reshape(1, 3)\n",
    "labels = np.array([-1, 1, 1]).reshape(1, 3)\n",
    "\n",
    "hard_margin_svm = MyHardMarginSVM()\n",
    "hard_margin_svm.train(data, labels)\n",
    "hard_margin_svm.decision(4)"
   ]
  },
  {
   "cell_type": "code",
   "execution_count": 267,
   "metadata": {},
   "outputs": [
    {
     "name": "stdout",
     "output_type": "stream",
     "text": [
      "Number of support vectors for the previous example: 2\n"
     ]
    }
   ],
   "source": [
    "print(\"Number of support vectors for the previous example: {}\".format(hard_margin_svm.get_nb_sv()))"
   ]
  },
  {
   "cell_type": "code",
   "execution_count": 268,
   "metadata": {},
   "outputs": [
    {
     "name": "stdout",
     "output_type": "stream",
     "text": [
      "Associated Lagrange value to each support vectors:\n",
      "[ 1.99999986  1.99999986]\n"
     ]
    }
   ],
   "source": [
    "print(\"Associated Lagrange value to each support vectors:\")\n",
    "print(hard_margin_svm.lagrange_coeffs())"
   ]
  },
  {
   "cell_type": "markdown",
   "metadata": {},
   "source": [
    "#### Regarding the above values\n",
    "\n",
    "Here, we have 2 support vectors, for 3 samples. Two-thirds of our sample are support vectors, which seems to be too much. Having too many support vectors may be a sign of overfitting. I have difficulties to answer the question on how to find a better method to improve the results, because the dataset is really small."
   ]
  },
  {
   "cell_type": "markdown",
   "metadata": {},
   "source": [
    "### 1.2 2D Tiny Toy"
   ]
  },
  {
   "cell_type": "code",
   "execution_count": 269,
   "metadata": {},
   "outputs": [],
   "source": [
    "import random\n",
    "\n",
    "def gen_data(gen_func, size):\n",
    "    nb_data = size\n",
    "    min_x = 0\n",
    "    max_x = 10\n",
    "    min_y = 0\n",
    "    max_y = 10\n",
    "    \n",
    "    # Generate train and labels\n",
    "    x_1, y_1, x_2, y_2 = gen_func(nb_data, min_x, max_x, min_y, max_y)\n",
    "    train = np.append(np.array((x_1, y_1)), np.array((x_2, y_2)), axis=1)\n",
    "    labels = np.append(-np.ones(nb_data), np.ones(nb_data)).reshape(1, nb_data * 2)\n",
    "    \n",
    "    # Regenerate a new set for test\n",
    "    x1_test, y1_test, x2_test, y2_test = gen_func(nb_data, min_x, max_x, min_y, max_y)\n",
    "    test = np.append(np.array((x_1, y_1)), np.array((x_2, y_2)), axis=1)\n",
    "    \n",
    "    return train, test, labels, {'x1': x_1, 'x2': x_2, 'y1': y_1, 'y2': y_2}\n",
    "\n",
    "def test_svm(svm, train, test, y):\n",
    "    print('Training SVM with {} trains and {} tests'.format(train.shape, y.shape))\n",
    "    svm.train(train, labels)\n",
    "    print('SVM successfully trained!')\n",
    "    output = svm.process(test)\n",
    "    print()\n",
    "    print('% of good classification:')\n",
    "    print(((output == y).sum() / y.shape[1]) * 100.0)\n",
    "    return output\n",
    "\n",
    "# Generates random data. Both classes are linearly separable by a straight line.\n",
    "def generate_data(n, min_x=0, max_x=10, min_y=0, max_y=10):\n",
    "    x_1 = []\n",
    "    x_2 = []\n",
    "    y_1 = []\n",
    "    y_2 = []\n",
    "    \n",
    "    # Generates data for lower-left part\n",
    "    for i in range(0, n):\n",
    "        x = random.uniform(min_x, max_x * 0.5) - random.uniform(min_x, max_x * 0.5) - max_x * 0.5\n",
    "        y = max_y - random.uniform(0.5, max_y - x)\n",
    "        x_1.append(x)\n",
    "        y_1.append(y)\n",
    "    \n",
    "    # Generates data for lower-left part\n",
    "    for i in range(0, n):\n",
    "        x = random.uniform(min_x, max_x * 0.5) + random.uniform(min_x, max_x * 0.5) + max_x * 0.25\n",
    "        y = max_y - random.uniform(0.5, max_y)\n",
    "        x_2.append(x)\n",
    "        y_2.append(y)\n",
    "\n",
    "    return x_1, y_1, x_2, y_2\n",
    "    "
   ]
  },
  {
   "cell_type": "code",
   "execution_count": 270,
   "metadata": {},
   "outputs": [
    {
     "name": "stdout",
     "output_type": "stream",
     "text": [
      "Display randomly generated 2D dataset:\n"
     ]
    },
    {
     "data": {
      "image/png": "[encoded data removed]",
      "text/plain": [
       "<matplotlib.figure.Figure at 0x7f082f0dd710>"
      ]
     },
     "metadata": {},
     "output_type": "display_data"
    }
   ],
   "source": [
    "print(\"Display randomly generated 2D dataset:\")\n",
    "nb_data = 50\n",
    "\n",
    "min_x = 0\n",
    "max_x = 10\n",
    "min_y = 0\n",
    "max_y = 10\n",
    "\n",
    "x_1, y_1, x_2, y_2 = generate_data(nb_data, min_x, max_x, min_y, max_y)\n",
    "\n",
    "plt.xlim([-max_x, max_x])\n",
    "plt.ylim([-max_y, max_y])\n",
    "plt.plot(x_1, y_1, 'ro')\n",
    "plt.plot(x_2, y_2, 'bo')\n",
    "\n",
    "plt.show()"
   ]
  },
  {
   "cell_type": "code",
   "execution_count": 271,
   "metadata": {},
   "outputs": [
    {
     "name": "stdout",
     "output_type": "stream",
     "text": [
      "(2, 100)\n",
      "(1, 100)\n"
     ]
    }
   ],
   "source": [
    "#train_data = np.append(np.array((x_1, y_1)), np.array((x_2, y_2)), axis=1)\n",
    "#labels = np.append(-np.ones(nb_data), np.ones(nb_data)).reshape(1, nb_data * 2)\n",
    "train_data, test_data, labels, raw_data = gen_data(generate_data, 50)\n",
    "print(train_data.shape)\n",
    "print (labels.shape)"
   ]
  },
  {
   "cell_type": "code",
   "execution_count": 272,
   "metadata": {},
   "outputs": [
    {
     "name": "stdout",
     "output_type": "stream",
     "text": [
      "Training SVM with (2, 100) trains and (1, 100) tests\n",
      "SVM successfully trained!\n",
      "\n",
      "% of good classification:\n",
      "100.0\n"
     ]
    },
    {
     "data": {
      "text/plain": [
       "array([[-1., -1., -1., -1., -1., -1., -1., -1., -1., -1., -1., -1., -1.,\n",
       "        -1., -1., -1., -1., -1., -1., -1., -1., -1., -1., -1., -1., -1.,\n",
       "        -1., -1., -1., -1., -1., -1., -1., -1., -1., -1., -1., -1., -1.,\n",
       "        -1., -1., -1., -1., -1., -1., -1., -1., -1., -1., -1.,  1.,  1.,\n",
       "         1.,  1.,  1.,  1.,  1.,  1.,  1.,  1.,  1.,  1.,  1.,  1.,  1.,\n",
       "         1.,  1.,  1.,  1.,  1.,  1.,  1.,  1.,  1.,  1.,  1.,  1.,  1.,\n",
       "         1.,  1.,  1.,  1.,  1.,  1.,  1.,  1.,  1.,  1.,  1.,  1.,  1.,\n",
       "         1.,  1.,  1.,  1.,  1.,  1.,  1.,  1.,  1.]])"
      ]
     },
     "execution_count": 272,
     "metadata": {},
     "output_type": "execute_result"
    }
   ],
   "source": [
    "svm = MyHardMarginSVM()\n",
    "test_svm(svm, train_data, test_data, labels)"
   ]
  },
  {
   "cell_type": "markdown",
   "metadata": {},
   "source": [
    "## 2 Noise"
   ]
  },
  {
   "cell_type": "code",
   "execution_count": 273,
   "metadata": {},
   "outputs": [],
   "source": [
    "# Generates random data. Both classes are linearly separable by a straight line.\n",
    "def generate_noisy_data(n, min_x=0, max_x=10, min_y=0, max_y=10):\n",
    "    x_1 = []\n",
    "    x_2 = []\n",
    "    y_1 = []\n",
    "    y_2 = []\n",
    "    \n",
    "    # Generates data for lower-left part\n",
    "    for i in range(0, n):\n",
    "        dispatch = random.uniform(0.8, 1.0)\n",
    "        x = random.uniform(min_x, max_x * 0.5) - random.uniform(min_x, max_x * 0.5) - max_x * 0.5 * dispatch + 1.0\n",
    "        y = max_y - random.uniform(0.5, max_y - x)\n",
    "        x_1.append(x)\n",
    "        y_1.append(y)\n",
    "    \n",
    "    # Generates data for lower-left part\n",
    "    for i in range(0, n):\n",
    "        dispatch = random.uniform(0.2, 0.3)\n",
    "        x = random.uniform(min_x, max_x * 0.8) + random.uniform(min_x, max_x * 0.5) - dispatch * max_x * 0.25\n",
    "        y = max_y - random.uniform(0.5, max_y)\n",
    "        x_2.append(x)\n",
    "        y_2.append(y)\n",
    "\n",
    "    return x_1, y_1, x_2, y_2"
   ]
  },
  {
   "cell_type": "code",
   "execution_count": 274,
   "metadata": {},
   "outputs": [
    {
     "data": {
      "image/png": "[encoded data removed]",
      "text/plain": [
       "<matplotlib.figure.Figure at 0x7f082ef80588>"
      ]
     },
     "metadata": {},
     "output_type": "display_data"
    }
   ],
   "source": [
    "nb_data = 50\n",
    "\n",
    "min_x = 0\n",
    "max_x = 10\n",
    "min_y = 0\n",
    "max_y = 10\n",
    "\n",
    "x_1, y_1, x_2, y_2 = generate_noisy_data(nb_data, min_x, max_x, min_y, max_y)\n",
    "\n",
    "plt.xlim([-max_x, max_x])\n",
    "plt.ylim([-max_y, max_y])\n",
    "plt.plot(x_1, y_1, 'ro')\n",
    "plt.plot(x_2, y_2, 'bo')\n",
    "\n",
    "plt.show()"
   ]
  },
  {
   "cell_type": "markdown",
   "metadata": {},
   "source": [
    "#### Test with hard margins"
   ]
  },
  {
   "cell_type": "code",
   "execution_count": 279,
   "metadata": {},
   "outputs": [
    {
     "name": "stdout",
     "output_type": "stream",
     "text": [
      "Training SVM with (2, 100) trains and (1, 100) tests\n",
      "SVM successfully trained!\n",
      "\n",
      "% of good classification:\n",
      "50.0\n"
     ]
    },
    {
     "data": {
      "text/plain": [
       "array([[-1., -1., -1., -1., -1., -1., -1., -1., -1., -1., -1., -1., -1.,\n",
       "        -1., -1., -1., -1., -1., -1., -1., -1., -1., -1., -1., -1., -1.,\n",
       "        -1., -1., -1., -1., -1., -1., -1., -1., -1., -1., -1., -1., -1.,\n",
       "        -1., -1., -1., -1., -1., -1., -1., -1., -1., -1., -1., -1., -1.,\n",
       "        -1., -1., -1., -1., -1., -1., -1., -1., -1., -1., -1., -1., -1.,\n",
       "        -1., -1., -1., -1., -1., -1., -1., -1., -1., -1., -1., -1., -1.,\n",
       "        -1., -1., -1., -1., -1., -1., -1., -1., -1., -1., -1., -1., -1.,\n",
       "        -1., -1., -1., -1., -1., -1., -1., -1., -1.]])"
      ]
     },
     "execution_count": 279,
     "metadata": {},
     "output_type": "execute_result"
    }
   ],
   "source": [
    "train_data, test_data, labels, raw_data = gen_data(generate_noisy_data, 50)\n",
    "\n",
    "svm = MyHardMarginSVM()\n",
    "test_svm(svm, train_data, test_data, labels)"
   ]
  },
  {
   "cell_type": "markdown",
   "metadata": {},
   "source": [
    "Comparing to the previous test, where the data where easily linearly separable, we obtain here only 53% of good classification. The problem comes from the fact that hard margins tend to overfit to the data and to separate them to much. We could solve this by using soft margins, which tends to be more resistant to the noise. It looks like the SVM is quite broken actually, because in the case of a \"huge\" noise, all outputs seem to have the same value."
   ]
  },
  {
   "cell_type": "markdown",
   "metadata": {},
   "source": [
    "### Soft Margins SVM"
   ]
  },
  {
   "cell_type": "code",
   "execution_count": 280,
   "metadata": {},
   "outputs": [],
   "source": [
    "class MySoftMarginSVM:\n",
    "   \n",
    "    def __init__(self):\n",
    "        self._lagranges = None # Contains the lagranges coefficients for each support vector\n",
    "        self._w = None # Direction of the hyperplane\n",
    "        self._bias = None # Contains the bias for each support vector\n",
    "\n",
    "    def _compute_gram(self, data_train, labels):\n",
    "        y = np.dot(labels.T, labels)\n",
    "        x = np.dot(data_train.T, data_train).astype(float)\n",
    "        return y * x;\n",
    "        \n",
    "    def train(self, data_train, labels):\n",
    "        # Small value for float comparisons\n",
    "        EPSILON = 1e-7\n",
    "\n",
    "        nb_samples = data_train.shape[1]\n",
    "        \n",
    "        #\n",
    "        # In order to use the cvxopt library, we have to convert\n",
    "        # numpy arrays to cvxopt matrices.\n",
    "        #\n",
    "        yy = np.dot(labels.T, labels)\n",
    "        xx = np.dot(data_train.T, data_train)\n",
    "        p = copt.matrix(yy * xx) # y_i * y_j * x_i.T * x_j\n",
    "        \n",
    "        q = copt.matrix(-np.ones(nb_samples).T.astype(float))\n",
    "        G = copt.matrix(-np.identity(nb_samples).T.astype(float))\n",
    "        A = copt.matrix(labels.astype(float))\n",
    "        h = copt.matrix(np.zeros(nb_samples).T.astype(float))\n",
    "        b = copt.matrix(0.0)\n",
    "        \n",
    "        # Solves the dual problem using the cvxopt library\n",
    "        trained = copt.solvers.qp(p, q, G, h, A, b)\n",
    "        \n",
    "        lagranges = np.ravel(np.array(trained['x']))\n",
    "        idx = (lagranges > EPSILON)\n",
    "        self._lagranges = lagranges[idx]\n",
    "        \n",
    "        y = labels[:, idx]\n",
    "        x = data_train[:, idx]\n",
    "        self._nb_sv = x.shape[0]\n",
    "        \n",
    "        self._w = np.sum(self._lagranges * y * x, axis=1).reshape(-1, 1)\n",
    "        self._bias = (1.0 / self._nb_sv) * np.sum(y - np.dot(self._w.T, x))\n",
    "\n",
    "    def decision(self, data):\n",
    "        return np.dot(self._w.T, data) + self._bias\n",
    "        \n",
    "    def process(self, data):\n",
    "        dot = np.dot(self._w.T, data) + self._bias\n",
    "        return np.sign(dot)\n",
    "        \n",
    "    def bias_get(self):\n",
    "        return self._bias\n",
    "        \n",
    "    def lagrange_coeffs(self):\n",
    "        return self._lagranges\n",
    "    \n",
    "    def get_nb_sv(self):\n",
    "        return self._lagranges.shape[0]\n",
    "        \n",
    "    def print_2Ddecision(self, bounds, print_sv=True, print_non_sv=False):\n",
    "        raise NotImplementedError"
   ]
  },
  {
   "cell_type": "code",
   "execution_count": 281,
   "metadata": {},
   "outputs": [
    {
     "name": "stdout",
     "output_type": "stream",
     "text": [
      "Training SVM with (2, 100) trains and (1, 100) tests\n",
      "SVM successfully trained!\n",
      "\n",
      "% of good classification:\n",
      "77.0\n"
     ]
    },
    {
     "data": {
      "image/png": "[encoded data removed]",
      "text/plain": [
       "<matplotlib.figure.Figure at 0x7f082f420518>"
      ]
     },
     "metadata": {},
     "output_type": "display_data"
    }
   ],
   "source": [
    "train_data, test_data, labels, raw_data = gen_data(generate_noisy_data, 50)\n",
    "\n",
    "soft_svm = MySoftMarginSVM()\n",
    "out = test_svm(soft_svm, train_data, test_data, labels)\n",
    "\n",
    "plt.plot(raw_data['x1'], raw_data['y1'], 'ro')\n",
    "plt.plot(raw_data['x2'], raw_data['y2'], 'go')\n",
    "        \n",
    "plt.show()"
   ]
  },
  {
   "cell_type": "markdown",
   "metadata": {},
   "source": [
    "## 3 MultiClass Management"
   ]
  },
  {
   "cell_type": "markdown",
   "metadata": {},
   "source": [
    "## 4 Unbalanced Dataset"
   ]
  },
  {
   "cell_type": "code",
   "execution_count": null,
   "metadata": {
    "collapsed": true
   },
   "outputs": [],
   "source": []
  }
 ],
 "metadata": {
  "kernelspec": {
   "display_name": "Python 3",
   "language": "python",
   "name": "python3"
  },
  "language_info": {
   "codemirror_mode": {
    "name": "ipython",
    "version": 3
   },
   "file_extension": ".py",
   "mimetype": "text/x-python",
   "name": "python",
   "nbconvert_exporter": "python",
   "pygments_lexer": "ipython3",
   "version": "3.5.2"
  }
 },
 "nbformat": 4,
 "nbformat_minor": 1
}
