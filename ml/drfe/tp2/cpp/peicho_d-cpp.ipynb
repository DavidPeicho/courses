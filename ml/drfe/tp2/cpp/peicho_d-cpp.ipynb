{
 "cells": [
  {
   "cell_type": "code",
   "execution_count": 1,
   "metadata": {},
   "outputs": [],
   "source": [
    "import numpy as np\n",
    "import scipy.io.wavfile as wavfile\n",
    "\n",
    "import matplotlib.pyplot as plt\n",
    "\n",
    "from sklearn.decomposition import FastICA, PCA"
   ]
  },
  {
   "cell_type": "markdown",
   "metadata": {},
   "source": [
    "# Cocktail Party Problem\n",
    "The goal is to unmix the sounds mixed in the audio files.\n",
    "\n",
    "## 1. Load the files\n",
    "Take a look at scipy.io.wavfile.read"
   ]
  },
  {
   "cell_type": "code",
   "execution_count": 2,
   "metadata": {},
   "outputs": [],
   "source": [
    "NB_FILES = 3\n",
    "files = [ \"mixed_{}.wav\".format(i) for i in range(1, NB_FILES + 1) ]"
   ]
  },
  {
   "cell_type": "code",
   "execution_count": 3,
   "metadata": {},
   "outputs": [],
   "source": [
    "sounds = []\n",
    "for sound_path in files:\n",
    "    sounds.append(wavfile.read(sound_path))"
   ]
  },
  {
   "cell_type": "markdown",
   "metadata": {},
   "source": [
    "## 2. Run an ICA\n",
    "Run an ICA from scikit learn (or your own) on the data"
   ]
  },
  {
   "cell_type": "code",
   "execution_count": 4,
   "metadata": {},
   "outputs": [
    {
     "name": "stdout",
     "output_type": "stream",
     "text": [
      "Number of sounds: 3\n",
      "Number of frequences: 95616\n"
     ]
    }
   ],
   "source": [
    "nb_comp = len(sounds)\n",
    "rate = sounds[0][0]\n",
    "nb_freq = sounds[0][1].shape[0]\n",
    "print(\"Number of sounds: {}\".format(nb_comp))\n",
    "print(\"Number of frequences: {}\".format(nb_freq))"
   ]
  },
  {
   "cell_type": "code",
   "execution_count": 5,
   "metadata": {},
   "outputs": [
    {
     "name": "stdout",
     "output_type": "stream",
     "text": [
      "X shape: (3, 95616)\n"
     ]
    }
   ],
   "source": [
    "# Builds a unique matrix containing all the music,\n",
    "# this will contain the independant sources.\n",
    "\n",
    "X = np.zeros((3, nb_freq))\n",
    "for s in range(0, len(sounds)):\n",
    "    X[s] = sounds[s][1]\n",
    "    \n",
    "print(\"X shape: {}\".format(X.shape))"
   ]
  },
  {
   "cell_type": "code",
   "execution_count": 6,
   "metadata": {},
   "outputs": [
    {
     "name": "stdout",
     "output_type": "stream",
     "text": [
      "S shape: (95616, 3)\n",
      "A shape: (3, 3)\n"
     ]
    }
   ],
   "source": [
    "ica = FastICA(n_components=nb_comp)\n",
    "S = ica.fit_transform(X.T)\n",
    "A = ica.mixing_\n",
    "\n",
    "print(\"S shape: {}\".format(S.shape))\n",
    "print(\"A shape: {}\".format(A.shape))"
   ]
  },
  {
   "cell_type": "markdown",
   "metadata": {},
   "source": [
    "## 3. Output the results\n",
    "Output the wav files. Do the sound good?"
   ]
  },
  {
   "cell_type": "code",
   "execution_count": 7,
   "metadata": {},
   "outputs": [
    {
     "data": {
      "image/png": "[encoded data removed]",
      "text/plain": [
       "<matplotlib.figure.Figure at 0x7fc3be127c18>"
      ]
     },
     "metadata": {},
     "output_type": "display_data"
    }
   ],
   "source": [
    "# Plots all the samples\n",
    "S = S.T\n",
    "\n",
    "plt.title(\"{} samples unmixed\".format(nb_comp))\n",
    "for i in range(0, nb_comp):\n",
    "    plt.plot(S[i], label=\"sample {}\".format(i))\n",
    "plt.legend()\n",
    "plt.show()"
   ]
  },
  {
   "cell_type": "markdown",
   "metadata": {},
   "source": [
    "### Save sounds to disk"
   ]
  },
  {
   "cell_type": "code",
   "execution_count": 8,
   "metadata": {},
   "outputs": [],
   "source": [
    "try:\n",
    "    for i in range(0, nb_comp):\n",
    "        wavfile.write('generated_{}.wav'.format(i), rate, S[i])\n",
    "except(e):\n",
    "    print('Failed to write samples to disk.')"
   ]
  },
  {
   "cell_type": "markdown",
   "metadata": {},
   "source": [
    "* Analysis\n",
    "\n",
    "We can see that the sounds overlap (which is normal) but they seem really uncorrelated, looking at the graph above makes think the ICA worked well.\n",
    "\n",
    "Actually, I listened to the output samples, and it effectively worked with very few noise!"
   ]
  },
  {
   "cell_type": "code",
   "execution_count": null,
   "metadata": {},
   "outputs": [],
   "source": []
  },
  {
   "cell_type": "code",
   "execution_count": null,
   "metadata": {},
   "outputs": [],
   "source": []
  }
 ],
 "metadata": {
  "kernelspec": {
   "display_name": "Python 3",
   "language": "python",
   "name": "python3"
  },
  "language_info": {
   "codemirror_mode": {
    "name": "ipython",
    "version": 3
   },
   "file_extension": ".py",
   "mimetype": "text/x-python",
   "name": "python",
   "nbconvert_exporter": "python",
   "pygments_lexer": "ipython3",
   "version": "3.5.2"
  }
 },
 "nbformat": 4,
 "nbformat_minor": 2
}
