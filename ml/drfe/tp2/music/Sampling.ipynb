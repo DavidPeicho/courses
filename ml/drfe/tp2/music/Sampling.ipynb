{
 "cells": [
  {
   "cell_type": "code",
   "execution_count": 15,
   "metadata": {},
   "outputs": [],
   "source": [
    "import numpy as np\n",
    "import scipy.io.wavfile as wavfile\n",
    "\n",
    "import matplotlib.pyplot as plt\n",
    "\n",
    "from pydub import AudioSegment\n",
    "from pydub.silence import split_on_silence\n",
    "\n",
    "from sklearn.decomposition import FastICA, PCA"
   ]
  },
  {
   "cell_type": "markdown",
   "metadata": {},
   "source": [
    "## Util functions"
   ]
  },
  {
   "cell_type": "code",
   "execution_count": 16,
   "metadata": {},
   "outputs": [],
   "source": [
    "def sound_to_features_matrix(sound):\n",
    "    nb_chunk = len(sound)\n",
    "    nb_freq = len(sound[0])\n",
    "    X = np.zeros((nb_chunk, nb_freq))\n",
    "    for c in range(0, nb_chunk):\n",
    "        X[c] = np.array(sound[c])\n",
    "    return X\n",
    "\n",
    "def save_samples(S, rate):\n",
    "    nb_chunk = S.shape[0]\n",
    "    try:\n",
    "        for i in range(0, nb_chunk):\n",
    "            wavfile.write('generated_{}.wav'.format(i), rate, S[i])\n",
    "    except:\n",
    "        print('Failed to write samples to disk.')"
   ]
  },
  {
   "cell_type": "markdown",
   "metadata": {},
   "source": [
    "# Reverse music sampling\n",
    "\n",
    "Goal of this project: find the samples used to generate a music using ICA.\n",
    "\n",
    "Through this TP, I will try several approach and see which one give the best results.\n",
    "\n",
    "## 1. Load the data\n",
    "Take a look at scipy.io.wavfile.read"
   ]
  },
  {
   "cell_type": "code",
   "execution_count": 17,
   "metadata": {},
   "outputs": [],
   "source": [
    "def load_sounds(files):\n",
    "    sounds = []\n",
    "    for sound_path in files:\n",
    "        \n",
    "        obj = AudioSegment.from_wav(sound_path)\n",
    "        sound_object = {\n",
    "            \"object\": obj,\n",
    "            \"data\": obj.get_array_of_samples(),\n",
    "            \"rate\": obj.frame_rate\n",
    "        }    \n",
    "        \n",
    "        sounds.append(sound_object)\n",
    "        \n",
    "    return sounds"
   ]
  },
  {
   "cell_type": "code",
   "execution_count": 18,
   "metadata": {},
   "outputs": [
    {
     "name": "stdout",
     "output_type": "stream",
     "text": [
      "Number of sounds: 1\n"
     ]
    }
   ],
   "source": [
    "sound_files = [ \"parade.wav\" ]\n",
    "\n",
    "sounds = load_sounds(sound_files)\n",
    "nb_sound = len(sounds)\n",
    "\n",
    "print(\"Number of sounds: {}\".format(nb_sound))"
   ]
  },
  {
   "cell_type": "markdown",
   "metadata": {},
   "source": [
    "## 2. Sample the data\n",
    "You have to cut the music into small chunks. Several strategies are possible for this task, find the best one!"
   ]
  },
  {
   "cell_type": "code",
   "execution_count": 67,
   "metadata": {},
   "outputs": [],
   "source": [
    "def split_with_pydub(sound, min_silence=1000):\n",
    "    split = split_on_silence(sound, min_silence_len=min_silence)\n",
    "    chunks = []\n",
    "    for i in range(0, len(split)):\n",
    "        chunks.append(split[i].get_array_of_samples())\n",
    "\n",
    "    return chunks"
   ]
  },
  {
   "cell_type": "code",
   "execution_count": 68,
   "metadata": {},
   "outputs": [],
   "source": [
    "def split_uniformly(sound):\n",
    "    return\n",
    "\n",
    "# splitted_sounds = split_with_pydub(sounds)"
   ]
  },
  {
   "cell_type": "code",
   "execution_count": 96,
   "metadata": {},
   "outputs": [],
   "source": [
    "def pad_chunk(sound, split_type=\"Left\"):\n",
    "    # Length of the greatest chunk ever\n",
    "    max_len = 0\n",
    "    \n",
    "    \"\"\"\n",
    "        Finds the largest chunk, this is used o add padding\n",
    "        to all other chunks.\n",
    "        \n",
    "        This loop will also convert every chunk to a numpy array,\n",
    "        in order to simplify their modification.\n",
    "    \"\"\" \n",
    "    nb_chunks = len(sound)\n",
    "    for c in range(0, nb_chunks):\n",
    "        chunk_len = len(sound[c])\n",
    "        max_len = chunk_len if chunk_len > max_len else max_len\n",
    "    \n",
    "    \"\"\"\n",
    "        We can now pad all the chunks with this padding.\n",
    "    \"\"\"\n",
    "    \n",
    "    chunks = []\n",
    "    for c in range(0, nb_chunks):\n",
    "        a = sound[c].tolist()\n",
    "        chunk_size = len(a)\n",
    "        zeros = np.zeros(max_len)\n",
    "        if split_type == \"Left\":\n",
    "            start = max_len - chunk_size\n",
    "            zeros[start:] = a\n",
    "        elif split_type == \"Center\":\n",
    "            start = (int)(max_len * 0.5) - (int)(chunk_size * 0.5)\n",
    "            zeros[start:start + chunk_size] = a\n",
    "        elif split_type == \"Right\":\n",
    "            zeros[0:chunk_size] = a\n",
    "            \n",
    "        chunks.append(zeros)\n",
    "    \n",
    "    return chunks"
   ]
  },
  {
   "cell_type": "code",
   "execution_count": 97,
   "metadata": {},
   "outputs": [],
   "source": [
    "# print(\"Number of chunks example: {}\".format(len(splitted_sounds[0])))"
   ]
  },
  {
   "cell_type": "code",
   "execution_count": 91,
   "metadata": {},
   "outputs": [],
   "source": [
    "processed_sounds = process(splitted_sounds, \"Right\")\n"
   ]
  },
  {
   "cell_type": "markdown",
   "metadata": {},
   "source": [
    "## 3. Run an ICA\n",
    "Run an ICA on your samples and listen to the result. Does it make sense?"
   ]
  },
  {
   "cell_type": "code",
   "execution_count": 92,
   "metadata": {},
   "outputs": [],
   "source": [
    "def ica(sound, nb_comp=None, print_data=True):\n",
    "    \n",
    "    X = sound_to_features_matrix(processed_sounds[0])\n",
    "    nb_chunks = X.shape[0]\n",
    "    if not(nb_comp is None):\n",
    "        nb_chunks = nb_comp\n",
    "    \n",
    "    ica = FastICA(n_components=nb_chunks)\n",
    "    S = ica.fit_transform(X.T)\n",
    "    S = S.T\n",
    "    \n",
    "    if print_data:\n",
    "        plt.title(\"{} samples unmixed\".format(nb_chunks))\n",
    "        for i in range(0, nb_chunks):\n",
    "            plt.plot(S[i], label=\"sample {}\".format(i), alpha=0.5)\n",
    "        plt.legend()\n",
    "        plt.show()\n",
    "    \n",
    "    return S"
   ]
  },
  {
   "cell_type": "markdown",
   "metadata": {},
   "source": [
    "### Function to compare different techniques"
   ]
  },
  {
   "cell_type": "code",
   "execution_count": 93,
   "metadata": {},
   "outputs": [],
   "source": [
    "def run(sound_object, data):\n",
    "    sound_obj = sound_object[\"object\"]\n",
    "    sound = sound_object[\"data\"]\n",
    "    rate = sound_object[\"rate\"]\n",
    "    \n",
    "    run_type = \"Uniform\" if not(\"run_type\" in data) else data[\"run_type\"]\n",
    "    \n",
    "    nb_comp = len(sound) if not(\"nb_comp\" in data) else data[\"nb_comp\"]\n",
    "    \n",
    "    # Displays information about the current run.\n",
    "    print(\"Number of desired components: {}\".format(nb_comp))\n",
    "    \n",
    "    if run_type == \"Silent\":\n",
    "        pad_type = \"Left\" if not(\"pad_type\" in data) else data[\"pad_type\"]\n",
    "        chunk = split_with_pydub(sound_obj)\n",
    "        chunk = pad_chunk(chunk, pad_type)\n",
    "        \n",
    "        plot = True if not(\"plot\" in data) else data[\"plot\"]\n",
    "        save = False if not(\"save\" in data) else data[\"save\"]\n",
    "        \n",
    "        S = ica(sound, nb_comp, plot)\n",
    "        if save:\n",
    "            save_samples(S, rate)\n",
    "        "
   ]
  },
  {
   "cell_type": "markdown",
   "metadata": {},
   "source": [
    "### Test 1: Split on silence"
   ]
  },
  {
   "cell_type": "markdown",
   "metadata": {},
   "source": [
    "We have a problem here, if we cut the sample in a non-uniform way, we will obtain samples with different size, which is a problem for the ICA.\n",
    "\n",
    "We will try to add padding to see if it helps."
   ]
  },
  {
   "cell_type": "markdown",
   "metadata": {},
   "source": [
    "### Chunks splitted on silence"
   ]
  },
  {
   "cell_type": "code",
   "execution_count": 98,
   "metadata": {},
   "outputs": [
    {
     "name": "stdout",
     "output_type": "stream",
     "text": [
      "Number of desired components: 5\n",
      "acdadada\n",
      "acdadada\n",
      "acdadada\n",
      "acdadada\n",
      "acdadada\n",
      "acdadada\n",
      "acdadada\n",
      "acdadada\n",
      "acdadada\n",
      "acdadada\n",
      "acdadada\n",
      "acdadada\n",
      "acdadada\n",
      "acdadada\n",
      "acdadada\n",
      "acdadada\n",
      "acdadada\n",
      "acdadada\n",
      "acdadada\n",
      "acdadada\n",
      "acdadada\n",
      "acdadada\n",
      "acdadada\n"
     ]
    },
    {
     "data": {
      "image/png": "[encoded data removed]",
      "text/plain": [
       "<matplotlib.figure.Figure at 0x7f771db02278>"
      ]
     },
     "metadata": {},
     "output_type": "display_data"
    }
   ],
   "source": [
    "#S = ica(processed_sounds[0], 6, True)\n",
    "data = {\n",
    "    \"plot\": True,\n",
    "    \"run_type\": \"Silent\",\n",
    "    \"pad_type\": \"Center\",\n",
    "    \"save\": True,\n",
    "    \"nb_comp\": 5\n",
    "}\n",
    "run(sounds[0], data)"
   ]
  },
  {
   "cell_type": "code",
   "execution_count": null,
   "metadata": {},
   "outputs": [],
   "source": []
  },
  {
   "cell_type": "markdown",
   "metadata": {},
   "source": [
    "## 4. Validate your results\n",
    "Find a metric to evaluate your method and try to improve it."
   ]
  },
  {
   "cell_type": "code",
   "execution_count": null,
   "metadata": {
    "collapsed": true
   },
   "outputs": [],
   "source": []
  }
 ],
 "metadata": {
  "kernelspec": {
   "display_name": "Python 3",
   "language": "python",
   "name": "python3"
  },
  "language_info": {
   "codemirror_mode": {
    "name": "ipython",
    "version": 3
   },
   "file_extension": ".py",
   "mimetype": "text/x-python",
   "name": "python",
   "nbconvert_exporter": "python",
   "pygments_lexer": "ipython3",
   "version": "3.5.2"
  }
 },
 "nbformat": 4,
 "nbformat_minor": 2
}
