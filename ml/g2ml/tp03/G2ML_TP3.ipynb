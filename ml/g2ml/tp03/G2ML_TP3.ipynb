{
 "cells": [
  {
   "cell_type": "markdown",
   "metadata": {},
   "source": [
    "# <center> TP 3 : Apprentissage d'un mélange - Algorithme EM"
   ]
  },
  {
   "cell_type": "markdown",
   "metadata": {},
   "source": [
    "## Chargement des données MNIST"
   ]
  },
  {
   "cell_type": "code",
   "execution_count": 1,
   "metadata": {
    "collapsed": false
   },
   "outputs": [
    {
     "name": "stdout",
     "output_type": "stream",
     "text": [
      "Using matplotlib backend: TkAgg\n",
      "Populating the interactive namespace from numpy and matplotlib\n"
     ]
    }
   ],
   "source": [
    "%pylab\n",
    "%matplotlib inline \n",
    "\n",
    "from mnist import load_mnist\n",
    "import numpy as np\n",
    "import visualize as vz\n",
    "import random as rd\n",
    "\n",
    "train_data, train_labels = load_mnist(dataset='training', path='./')\n",
    "test_data, test_labels = load_mnist(dataset='testing', path='./')"
   ]
  },
  {
   "cell_type": "markdown",
   "metadata": {},
   "source": [
    "Transformation de `train_data` et `test_data` en vecteur colonne pour chaque exemple."
   ]
  },
  {
   "cell_type": "code",
   "execution_count": 2,
   "metadata": {
    "collapsed": false
   },
   "outputs": [],
   "source": [
    "train_data = np.reshape(train_data, (60000, 28 * 28)).T\n",
    "test_data  = np.reshape(test_data,  (10000, 28 * 28)).T"
   ]
  },
  {
   "cell_type": "markdown",
   "metadata": {},
   "source": [
    "Binarisation des données :"
   ]
  },
  {
   "cell_type": "code",
   "execution_count": 3,
   "metadata": {
    "collapsed": false
   },
   "outputs": [
    {
     "data": {
      "image/png": "[encoded data removed]",
      "text/plain": [
       "<matplotlib.figure.Figure at 0x7f3ccc445a90>"
      ]
     },
     "metadata": {},
     "output_type": "display_data"
    }
   ],
   "source": [
    "binarize = lambda x : x < 128 / 255\n",
    "vfunc = np.vectorize(binarize)\n",
    "train_data = vfunc(train_data)\n",
    "test_data = vfunc(test_data)\n",
    "\n",
    "vz.plotGroupImages(train_data[:, :10])"
   ]
  },
  {
   "cell_type": "markdown",
   "metadata": {},
   "source": [
    "## Partie 1 : Théorie\n",
    "\n",
    "A partir de ce qui a été vu en cours, déduire les étapes de l'algorithme EM pour l'apprentissage des paramètres d'un mélange de loi de Bernoulli. Donner les formules de mise à jour des différents paramètres du modèle."
   ]
  },
  {
   "cell_type": "markdown",
   "metadata": {
    "scrolled": true
   },
   "source": [
    "L'algorithme EM fonctionne suivant deux étapes :\n",
    "* L'étape appelée \"expectation\", qui consiste à calculer tous les poids de tous les points pour toutes les composantes.\n",
    "* L'étape appelée \"maximization\", qui vise à recalculer les moyennes pour chaque composante, en modifiant les poids de chaque composante."
   ]
  },
  {
   "cell_type": "markdown",
   "metadata": {},
   "source": [
    "On pose N correspondant aux nombres d'éléments dans le dataset {$X_1, \\ldots, X_n$}, K correspondant aux nombres de composantes souhaitées,\n",
    "$w_i$ le poid associé à la i-ème composante."
   ]
  },
  {
   "cell_type": "markdown",
   "metadata": {},
   "source": [
    "**Etape 1 : Initialisation des paramètres**"
   ]
  },
  {
   "cell_type": "markdown",
   "metadata": {},
   "source": [
    "* Initialisation des moyennes de chaque composante.\n",
    "* Initialisation des poids, tels que $\\sum_{i=1}^{K}{w_i} = \\sum_{i=1}^K{P(i)} = 1$."
   ]
  },
  {
   "cell_type": "markdown",
   "metadata": {},
   "source": [
    "**Etape 2 : Expectation**"
   ]
  },
  {
   "cell_type": "markdown",
   "metadata": {},
   "source": [
    "* Nous savons que la vraisemblance $P(X_i | \\mu_k) = \\mu_k^{X_i} (1 − \\mu_k)^{N − X_i}$ en utilisant une distribution de Bernoulli.\n",
    "* On calcule l'a posteriori : $P(k|X_i) = \\frac{w_k P(X_i|\\mu_k)}{\\sum_{j=1}^{K}{w_j P(X_j|\\mu_k)}} = \\frac{w_k (\\mu_k^{X_i} (1 − \\mu_k)^{N − X_i})}{\\sum_{j=1}^{K}{w_j (\\mu_k^{X_j}(1 − \\mu_k)^{N − X_j})}}$"
   ]
  },
  {
   "cell_type": "markdown",
   "metadata": {},
   "source": [
    "**Etape 3 : Maximization**"
   ]
  },
  {
   "cell_type": "markdown",
   "metadata": {},
   "source": [
    "* On calcule de nouveaux poids : $P(k) = w_k = \\frac{\\sum_{i=1}^{N}{P(k|X_i)}}{N}$\n",
    "* On calcule les nouvelles moyennes : $\\mu_k = \\frac{\\sum_{i=1}^{N}{P(k|X_i)X_i}}{\\sum_{i=1}^{N}{P(k|X_i)}}$"
   ]
  },
  {
   "cell_type": "markdown",
   "metadata": {},
   "source": [
    "## Partie 2 : Implémentation\n",
    "\n",
    "On vous demandera de tester différentes valeurs pour le nombre de composantes du mélange ainsi que différentes initialisations du modèle."
   ]
  },
  {
   "cell_type": "markdown",
   "metadata": {},
   "source": [
    "**1.** Implémenter cet algorithme et faire l'apprentissage sur les données binaires TRAINB obtenues précedemment. Attention à la manipulation des valeurs de probabilités (entre 0 et 1) qui deviennent rapidement nulles à cause de la précision des chiffres flottants."
   ]
  },
  {
   "cell_type": "code",
   "execution_count": 4,
   "metadata": {
    "collapsed": false
   },
   "outputs": [],
   "source": [
    "class EmBernoulli:\n",
    "    def __init__(self, data, nbComponents):\n",
    "        self.data = data\n",
    "        self.nbComponents = nbComponents\n",
    "\n",
    "    def _init_center(self):\n",
    "        self.center = np.zeros((self.data.shape[0], self.nbComponents))\n",
    "        minimages = self.data.shape[1] // 4\n",
    "        for i in range(self.nbComponents):\n",
    "            mini = 0\n",
    "            maxi = rd.randint(minimages, self.data.shape[1])\n",
    "            self.center[:, i] = np.mean(self.data[:, mini:maxi], axis=1)\n",
    "\n",
    "    def computeEM(self):\n",
    "        delta = 1e-2\n",
    "        # P(k)\n",
    "        self.W = np.repeat(1 / self.nbComponents, self.nbComponents)\n",
    "        self._init_center()\n",
    "        \n",
    "        while True:\n",
    "            self._expectationStep()\n",
    "            newW, newCenter = self._maximizationStep()\n",
    "            diff = np.sum(np.abs(newW - self.W))\n",
    "            if diff < delta:\n",
    "                return newW, newCenter\n",
    "            self.W = newW\n",
    "            self.center = newCenter\n",
    "\n",
    "    def _bernoulli(self, x, center):\n",
    "        # proba is P(X1, ..., Xn)\n",
    "        proba = np.zeros(x.shape)\n",
    "        # Retrieve indices of black and white pixels.\n",
    "        indices = [np.array(np.where(x == i)) for i in range(2)]\n",
    "        proba[indices[0]] = 1 - center[indices[0]]\n",
    "        proba[indices[1]] = center[indices[1]]\n",
    "        prod = np.prod(proba)\n",
    "\n",
    "        # This lines allow to fix NaN problems,\n",
    "        # by replacing them by smallest epsilon\n",
    "        if np.isnan(prod) or prod <= 0:\n",
    "            return np.finfo(prod.dtype).tiny\n",
    "        return prod\n",
    "\n",
    "    def _expectationStep(self):\n",
    "        N = self.data.shape[1]\n",
    "        K = self.nbComponents\n",
    "        self.tabl = np.zeros((N, K))\n",
    "\n",
    "        for n in range(N):\n",
    "            for k in range(K):\n",
    "                # Probability for the image to be from K class.\n",
    "                self.tabl[n, k] = np.log(self._bernoulli(self.data[:, n], self.center[:, k])) + np.log(self.W[k])\n",
    "                \n",
    "            maxValue = np.amax(self.tabl[n, :])\n",
    "            normTabl = self.tabl[n, :] - maxValue\n",
    "            tablSum = np.sum(np.exp(normTabl))\n",
    "            self.tabl[n, :] = np.exp(normTabl - np.log(tablSum))\n",
    "\n",
    "    def _maximizationStep(self):\n",
    "        N = self.tabl.shape[0]\n",
    "        tsum = np.sum(self.tabl, axis=0)\n",
    "        W =  tsum / N\n",
    "        center = np.dot(self.data, self.tabl) / tsum\n",
    "        return W, center"
   ]
  },
  {
   "cell_type": "code",
   "execution_count": 5,
   "metadata": {
    "collapsed": false
   },
   "outputs": [],
   "source": [
    "train_classes = [train_data[:, np.where(train_labels == i)[0]]\n",
    "                        for i in range(10)]\n",
    "emb = EmBernoulli(train_classes[3], 4)\n",
    "W, center = emb.computeEM()"
   ]
  },
  {
   "cell_type": "markdown",
   "metadata": {},
   "source": [
    "**2.** Afficher les moyennes des différentes distributions de Bernoulli ?"
   ]
  },
  {
   "cell_type": "code",
   "execution_count": 6,
   "metadata": {
    "collapsed": false
   },
   "outputs": [
    {
     "data": {
      "image/png": "[encoded data removed]",
      "text/plain": [
       "<matplotlib.figure.Figure at 0x7f3c96eb3ac8>"
      ]
     },
     "metadata": {},
     "output_type": "display_data"
    }
   ],
   "source": [
    "vz.plotGroupImages(center)"
   ]
  },
  {
   "cell_type": "markdown",
   "metadata": {},
   "source": [
    "**3.** En utilisant uniquement 10 composantes, est-il possible d'avoir un centre par classe ? Justifier."
   ]
  },
  {
   "cell_type": "code",
   "execution_count": 7,
   "metadata": {
    "collapsed": false
   },
   "outputs": [],
   "source": [
    "#TODO"
   ]
  },
  {
   "cell_type": "markdown",
   "metadata": {},
   "source": [
    "**4.** Tester un classifieur bayésien en utilisant un mélange pour chaque classe ? Quel est le taux de reconnaissance obtenu (tester 1, 2, 4, et 8 composantes par classe) ?"
   ]
  },
  {
   "cell_type": "code",
   "execution_count": 8,
   "metadata": {
    "collapsed": true
   },
   "outputs": [],
   "source": [
    "# TODO"
   ]
  },
  {
   "cell_type": "markdown",
   "metadata": {},
   "source": [
    "## Partie 3 : Comparaison avec un GMM"
   ]
  },
  {
   "cell_type": "markdown",
   "metadata": {
    "collapsed": true
   },
   "source": [
    "Comparer les résultats obtenus avec le cas d'un mélange de gaussiennes sur les données brutes TRAIN et TEST."
   ]
  },
  {
   "cell_type": "markdown",
   "metadata": {},
   "source": [
    "* On a $N(X; \\mu, \\Theta) = \\frac{1}{\\sqrt{(2\\pi)^D|\\Theta|}} exp(-0.5(X - \\mu)^T\\Theta^{-1}(X - \\mu))$\n",
    "* La vraisemblance : $P(k|X) = \\frac{w_k N(X;\\mu_k,\\Theta_k)}{\\sum_{j=1}^{N}{w_j N(X,\\mu_j,\\Theta_j)}}$\n",
    "* $P(k) = \\frac{\\sum_{i=1}^{N}{P(k|X_i)}}{N}$\n",
    "* $\\mu_k = \\frac{\\sum_{i=1}^{N}{P(k|X_i)X_i}}{\\sum_{i=1}^{N}{P(k|X_i)}}$\n",
    "* $\\Theta_k = \\frac{\\sum_{i=1}^{N}{P(k|X_i)(X_i - \\mu_k)^2}}{\\sum_{i=1}^{N}{P(k|X_i)}}$"
   ]
  },
  {
   "cell_type": "markdown",
   "metadata": {},
   "source": [
    "**1.** Envisager le cas de gaussienne avec des matrices de covariance diagonale, ensuite tester la version avec matrices de covariance complètes."
   ]
  },
  {
   "cell_type": "code",
   "execution_count": 9,
   "metadata": {
    "collapsed": true
   },
   "outputs": [],
   "source": [
    "class EmGaussian:\n",
    "    def _init_center_cov(self):\n",
    "        self.center = np.zeros((self.data.shape[0], self.nbComponents))\n",
    "        #cov = [np.zeros((data.shape[0], data.shape[0])) for i in\n",
    "        #        range(nbComponents)]\n",
    "        self.cov = [np.identity(self.data.shape[0]) for i in\n",
    "                    range(self.nbComponents)]\n",
    "        minimages = self.data.shape[1] // 4\n",
    "\n",
    "        for i in range(self.nbComponents):\n",
    "            maxi = rd.randint(minimages, self.data.shape[1])\n",
    "            self.center[:, i] = np.mean(self.data[:, minimages:maxi], axis=1)\n",
    "            #cov[i] = np.cov(data[:, minimages:maxi])\n",
    "\n",
    "\n",
    "    def __init__(self, data, nbComponents):\n",
    "        self.data = data\n",
    "        self.nbComponents = nbComponents\n",
    "        self.delta = 1e-2\n",
    "\n",
    "    def computeEM(self):\n",
    "        # P(k)\n",
    "        self.W = np.repeat(1 / self.nbComponents, self.nbComponents)\n",
    "        self._init_center_cov()\n",
    "\n",
    "        while True:\n",
    "            self._expectationStep()\n",
    "            oldW = self.W\n",
    "            self._maximizationStep(tabl, center, data)\n",
    "            if np.sum(np.abs(W - oldW)) < self.delta:\n",
    "                return self.W, self.center, self.cov\n",
    "\n",
    "    def _gaussian(self, x, k):\n",
    "        # Here, we have to use the logarithm\n",
    "        # in order to store the value in a double\n",
    "        D = x.shape[0]\n",
    "        xcentered = x - self.center[:, k]\n",
    "        covdet = np.linalg.det(self.cov[k])\n",
    "        covinv = np.linalg.pinv(self.cov[k])\n",
    "        #piN = (2 * np.pi) ** D\n",
    "        #denom = np.sqrt(piN * covdet)\n",
    "        a = -0.5 * xcentered.T.dot(covinv).dot(xcentered)\n",
    "        return -0.5 * (D * np.log(2 * np.pi) * np.log(covdet)) + a\n",
    "        #return np.exp(-0.5 * xcentered.T.dot(covinv.dot(xcentered))) / denom\n",
    "\n",
    "    def _expectationStep(self):\n",
    "        N = self.data.shape[1] # Number of data.\n",
    "        D = self.data.shape[0] # Number of pixels.\n",
    "        K = self.W.shape[0] # Number of classes.\n",
    "        self.tabl = np.zeros((N, K))\n",
    "        # Likelihood\n",
    "        for n in range(N):\n",
    "            for k in range(K):\n",
    "                # print(\"EXPECTATION n =\", n, \"k =\", k)\n",
    "                # Probability for the image to be from K class.\n",
    "                self.tabl[n, k] = self._gaussian(self.data[:, n], k) * self.W[k]\n",
    "            tsum = np.sum(self.tabl[n, :])\n",
    "            self.tabl[n, :] = self.tabl[n, :] / tsum\n",
    "\n",
    "    def _maximizationStep(self):\n",
    "        print(\"MAXIMIZATION\")\n",
    "        N = self.tabl.shape[0] # Number of data.\n",
    "        K = self.tabl.shape[1] # Number of classes.\n",
    "        D = self.data.shape[0] # Number of pixels.\n",
    "        tsum = np.sum(self.tabl, axis=0)\n",
    "        oldcenter = W\n",
    "        # Weights\n",
    "        self.W =  tsum / N\n",
    "        # Means\n",
    "        self.center = np.dot(self.data, self.tabl) / tsum\n",
    "        # Covariances\n",
    "        xcentered = np.power(self.data - oldcenter, 2)\n",
    "        self.cov = np.dot(xcentered, self.tabl) / tsum\n",
    "        print(self.cov.shape)"
   ]
  },
  {
   "cell_type": "code",
   "execution_count": 10,
   "metadata": {
    "collapsed": false
   },
   "outputs": [],
   "source": [
    "#emg = EmGaussian(test_data, 10)\n",
    "#W, center, cov = emg.computeEM()\n",
    "#vz.plotGroupImages(center)"
   ]
  },
  {
   "cell_type": "markdown",
   "metadata": {},
   "source": [
    "**2.** Attention à la dégénérescence de l'algorithme EM (matrice de covariance non inversible). Il faut voir comment gérer ce problème ainsi que l'initialisation."
   ]
  },
  {
   "cell_type": "code",
   "execution_count": 11,
   "metadata": {
    "collapsed": true
   },
   "outputs": [],
   "source": [
    "# TODO"
   ]
  },
  {
   "cell_type": "markdown",
   "metadata": {},
   "source": [
    "**3.** Proposer la meilleure solution pour avoir le plus haut taux de reconnaissance."
   ]
  },
  {
   "cell_type": "code",
   "execution_count": 12,
   "metadata": {
    "collapsed": true
   },
   "outputs": [],
   "source": [
    "# TODO"
   ]
  }
 ],
 "metadata": {
  "kernelspec": {
   "display_name": "Python 3",
   "language": "python",
   "name": "python3"
  },
  "language_info": {
   "codemirror_mode": {
    "name": "ipython",
    "version": 3
   },
   "file_extension": ".py",
   "mimetype": "text/x-python",
   "name": "python",
   "nbconvert_exporter": "python",
   "pygments_lexer": "ipython3",
   "version": "3.5.2"
  }
 },
 "nbformat": 4,
 "nbformat_minor": 2
}
