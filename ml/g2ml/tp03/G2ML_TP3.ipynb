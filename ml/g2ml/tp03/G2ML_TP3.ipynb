{
 "cells": [
  {
   "cell_type": "markdown",
   "metadata": {},
   "source": [
    "# <center> TP 3 : Apprentissage d'un mélange - Algorithme EM"
   ]
  },
  {
   "cell_type": "markdown",
   "metadata": {},
   "source": [
    "## Chargement des données MNIST"
   ]
  },
  {
   "cell_type": "code",
   "execution_count": 1,
   "metadata": {
    "collapsed": false
   },
   "outputs": [
    {
     "name": "stdout",
     "output_type": "stream",
     "text": [
      "Using matplotlib backend: TkAgg\n",
      "Populating the interactive namespace from numpy and matplotlib\n"
     ]
    }
   ],
   "source": [
    "%pylab\n",
    "%matplotlib inline \n",
    "\n",
    "from mnist import load_mnist\n",
    "import numpy as np\n",
    "import visualize as vz\n",
    "import random as rd\n",
    "\n",
    "train_data, train_labels = load_mnist(dataset='training', path='./')\n",
    "test_data, test_labels = load_mnist(dataset='testing', path='./')"
   ]
  },
  {
   "cell_type": "markdown",
   "metadata": {},
   "source": [
    "Transformation de `train_data` et `test_data` en vecteur colonne pour chaque exemple."
   ]
  },
  {
   "cell_type": "code",
   "execution_count": 2,
   "metadata": {
    "collapsed": true
   },
   "outputs": [],
   "source": [
    "train_data = np.reshape(train_data, (60000, 28 * 28)).T\n",
    "test_data  = np.reshape(test_data,  (10000, 28 * 28)).T\n",
    "# Split by classes.\n",
    "train_classes = [train_data[:, np.where(train_labels == i)[0]]\n",
    "                        for i in range(10)]"
   ]
  },
  {
   "cell_type": "markdown",
   "metadata": {},
   "source": [
    "Binarisation des données :"
   ]
  },
  {
   "cell_type": "code",
   "execution_count": 3,
   "metadata": {
    "collapsed": false
   },
   "outputs": [
    {
     "data": {
      "image/png": "[encoded data removed]",
      "text/plain": [
       "<matplotlib.figure.Figure at 0x7ff947b54f60>"
      ]
     },
     "metadata": {},
     "output_type": "display_data"
    }
   ],
   "source": [
    "binarize = lambda x : x < 128 / 255\n",
    "vfunc = np.vectorize(binarize)\n",
    "\n",
    "trainb_data = vfunc(train_data)\n",
    "testb_data = vfunc(test_data)\n",
    "trainb_classes = [trainb_data[:, np.where(train_labels == i)[0]]\n",
    "                        for i in range(10)]\n",
    "\n",
    "vz.plotGroupImages(trainb_data[:, :10])"
   ]
  },
  {
   "cell_type": "markdown",
   "metadata": {},
   "source": [
    "## Partie 1 : Théorie\n",
    "\n",
    "A partir de ce qui a été vu en cours, déduire les étapes de l'algorithme EM pour l'apprentissage des paramètres d'un mélange de loi de Bernoulli. Donner les formules de mise à jour des différents paramètres du modèle."
   ]
  },
  {
   "cell_type": "markdown",
   "metadata": {
    "scrolled": true
   },
   "source": [
    "L'algorithme EM fonctionne suivant deux étapes :\n",
    "* L'étape appelée \"expectation\", qui consiste à calculer tous les poids de tous les points pour toutes les composantes.\n",
    "* L'étape appelée \"maximization\", qui vise à recalculer les moyennes pour chaque composante, en modifiant les poids de chaque composante."
   ]
  },
  {
   "cell_type": "markdown",
   "metadata": {},
   "source": [
    "On pose N correspondant aux nombres d'éléments dans le dataset {$X_1, \\ldots, X_n$}, K correspondant aux nombres de composantes souhaitées,\n",
    "$w_i$ le poid associé à la i-ème composante."
   ]
  },
  {
   "cell_type": "markdown",
   "metadata": {},
   "source": [
    "**Etape 1 : Initialisation des paramètres**"
   ]
  },
  {
   "cell_type": "markdown",
   "metadata": {},
   "source": [
    "* Initialisation des moyennes de chaque composante.\n",
    "* Initialisation des poids, tels que $\\sum_{i=1}^{K}{w_i} = \\sum_{i=1}^K{P(i)} = 1$."
   ]
  },
  {
   "cell_type": "markdown",
   "metadata": {},
   "source": [
    "**Etape 2 : Expectation**"
   ]
  },
  {
   "cell_type": "markdown",
   "metadata": {},
   "source": [
    "* Nous savons que la vraisemblance $P(X_i | \\mu_k) = \\mu_k^{X_i} (1 − \\mu_k)^{N − X_i}$ en utilisant une distribution de Bernoulli.\n",
    "* On calcule l'a posteriori : $P(k|X_i) = \\frac{w_k P(X_i|\\mu_k)}{\\sum_{j=1}^{K}{w_j P(X_j|\\mu_k)}} = \\frac{w_k (\\mu_k^{X_i} (1 − \\mu_k)^{N − X_i})}{\\sum_{j=1}^{K}{w_j (\\mu_k^{X_j}(1 − \\mu_k)^{N − X_j})}}$"
   ]
  },
  {
   "cell_type": "markdown",
   "metadata": {},
   "source": [
    "**Etape 3 : Maximization**"
   ]
  },
  {
   "cell_type": "markdown",
   "metadata": {},
   "source": [
    "* On calcule de nouveaux poids : $P(k) = w_k = \\frac{\\sum_{i=1}^{N}{P(k|X_i)}}{N}$\n",
    "* On calcule les nouvelles moyennes : $\\mu_k = \\frac{\\sum_{i=1}^{N}{P(k|X_i)X_i}}{\\sum_{i=1}^{N}{P(k|X_i)}}$"
   ]
  },
  {
   "cell_type": "markdown",
   "metadata": {},
   "source": [
    "## Partie 2 : Implémentation\n",
    "\n",
    "On vous demandera de tester différentes valeurs pour le nombre de composantes du mélange ainsi que différentes initialisations du modèle."
   ]
  },
  {
   "cell_type": "markdown",
   "metadata": {},
   "source": [
    "**1.** Implémenter cet algorithme et faire l'apprentissage sur les données binaires TRAINB obtenues précedemment. Attention à la manipulation des valeurs de probabilités (entre 0 et 1) qui deviennent rapidement nulles à cause de la précision des chiffres flottants."
   ]
  },
  {
   "cell_type": "code",
   "execution_count": 4,
   "metadata": {
    "collapsed": true
   },
   "outputs": [],
   "source": [
    "class EmBernoulli:\n",
    "    def __init__(self, data, nb_components, delta=1e-3):\n",
    "        self.data = data\n",
    "        self.nb_components = nb_components\n",
    "        self.delta = delta\n",
    "\n",
    "    def _init_weight_center(self):\n",
    "        self.W = np.repeat(1 / self.nb_components, self.nb_components)\n",
    "        self.center = np.zeros((self.data.shape[0], self.nb_components))\n",
    "        minimages = self.data.shape[1] // 4\n",
    "\n",
    "        for i in range(self.nb_components):\n",
    "            maxi = rd.randint(minimages, self.data.shape[1])\n",
    "            self.center[:, i] = np.mean(self.data[:, 0:maxi], axis=1)\n",
    "\n",
    "    def computeEM(self):\n",
    "        self._init_weight_center()\n",
    "        \n",
    "        while True:\n",
    "            self._expectationStep()\n",
    "            old_center = self.center\n",
    "            self._maximizationStep()\n",
    "            diff = np.sum(np.abs(self.center - old_center))\n",
    "            #print(\"Diff:\", diff)\n",
    "            # Cas d'arrêt sur la vraisemblance à faire !!!\n",
    "            if diff < self.delta:\n",
    "                #print(\"BMM EM done!\")\n",
    "                return self.W, self.center\n",
    "\n",
    "    def _bernoulli(self, x, center):\n",
    "        proba = np.zeros(x.shape)\n",
    "        # Retrieve indices of black and white pixels.\n",
    "        indices = [np.array(np.where(x == i)) for i in range(2)]\n",
    "\n",
    "        proba[indices[0]] = 1 - center[indices[0]]\n",
    "        proba[indices[1]] = center[indices[1]]\n",
    "        prod = np.prod(proba)\n",
    "\n",
    "        # This lines allow to fix NaN problems,\n",
    "        # by replacing them by smallest epsilon\n",
    "        if np.isnan(prod) or prod <= 0:\n",
    "            return np.finfo(prod.dtype).tiny\n",
    "        return prod\n",
    "\n",
    "    def _expectationStep(self):\n",
    "        N = self.data.shape[1]\n",
    "        K = self.nb_components\n",
    "        self.tabl = np.zeros((N, K))\n",
    "\n",
    "        for n in range(N):\n",
    "            for k in range(K):\n",
    "                # Probability for the image to be from K class.\n",
    "                self.tabl[n, k] = np.log(self._bernoulli(self.data[:, n], self.center[:, k])) + np.log(self.W[k])\n",
    "                \n",
    "            max_value = np.amax(self.tabl[n, :])\n",
    "            norm_tabl = self.tabl[n, :] - max_value\n",
    "            tabl_sum = np.sum(np.exp(norm_tabl))\n",
    "            self.tabl[n, :] = np.exp(norm_tabl - np.log(tabl_sum))\n",
    "\n",
    "    def _maximizationStep(self):\n",
    "        N = self.tabl.shape[0]\n",
    "        tsum = np.sum(self.tabl, axis=0)\n",
    "        self.W =  tsum / N\n",
    "        self.center = np.dot(self.data, self.tabl) / tsum"
   ]
  },
  {
   "cell_type": "code",
   "execution_count": 5,
   "metadata": {
    "collapsed": false
   },
   "outputs": [],
   "source": [
    "emb = EmBernoulli(trainb_classes[3], 4)\n",
    "_, center = emb.computeEM()"
   ]
  },
  {
   "cell_type": "markdown",
   "metadata": {},
   "source": [
    "**2.** Afficher les moyennes des différentes distributions de Bernoulli ?"
   ]
  },
  {
   "cell_type": "code",
   "execution_count": 6,
   "metadata": {
    "collapsed": false
   },
   "outputs": [
    {
     "data": {
      "image/png": "[encoded data removed]",
      "text/plain": [
       "<matplotlib.figure.Figure at 0x7ff9446876a0>"
      ]
     },
     "metadata": {},
     "output_type": "display_data"
    }
   ],
   "source": [
    "vz.plotGroupImages(center)"
   ]
  },
  {
   "cell_type": "markdown",
   "metadata": {},
   "source": [
    "**3.** En utilisant uniquement 10 composantes, est-il possible d'avoir un centre par classe ? Justifier."
   ]
  },
  {
   "cell_type": "markdown",
   "metadata": {},
   "source": [
    "Non, il n'est pas possible d'utiliser un centre par classe, car, comme affiché ci-dessus, les centres obtenus peuvent être \"proches\", ne permettant pas de les distinguer les uns entre les autres. Par exemple, le \"7\" et le \"1\" ont tendance à se ressembler, tout comme le \"3\" et le \"8\"."
   ]
  },
  {
   "cell_type": "code",
   "execution_count": 7,
   "metadata": {
    "collapsed": false
   },
   "outputs": [
    {
     "data": {
      "image/png": "[encoded data removed]",
      "text/plain": [
       "<matplotlib.figure.Figure at 0x7ff8f5ce8a20>"
      ]
     },
     "metadata": {},
     "output_type": "display_data"
    }
   ],
   "source": [
    "emb = EmBernoulli(trainb_data, 10)\n",
    "_, center = emb.computeEM()\n",
    "vz.plotGroupImages(center)"
   ]
  },
  {
   "cell_type": "markdown",
   "metadata": {},
   "source": [
    "**4.** Tester un classifieur bayésien en utilisant un mélange pour chaque classe ? Quel est le taux de reconnaissance obtenu (tester 1, 2, 4, et 8 composantes par classe) ?"
   ]
  },
  {
   "cell_type": "code",
   "execution_count": 8,
   "metadata": {
    "collapsed": true
   },
   "outputs": [],
   "source": [
    "class BernouilliClassifier:    \n",
    "    def train(self, train_data, train_labels, nb_comp):\n",
    "        tinier = np.vectorize(lambda x : np.finfo(centers.dtype).tiny if x <= 0 else x)\n",
    "        \n",
    "        self.nb_classes = np.unique(train_labels).shape[0]\n",
    "        self.train_data = train_data\n",
    "        self.train_labels = train_labels\n",
    "        self.nb_comp = nb_comp\n",
    "        self.centers_by_class = np.zeros((self.nb_classes, train_data.shape[0], self.nb_comp))\n",
    "        self.neg_centers_by_class = np.zeros((self.nb_classes, train_data.shape[0], self.nb_comp))\n",
    "        \n",
    "        for i in range(self.nb_classes):\n",
    "            emb = EmBernoulli(self.train_data[:, np.where(train_labels == i)[0]], self.nb_comp)\n",
    "            _, centers = emb.computeEM()\n",
    "            self.centers_by_class[i] = np.log(centers)\n",
    "            self.neg_centers_by_class[i] = np.log(tinier(1 - centers))\n",
    "            \n",
    "    def process(self, data):\n",
    "        N = data.shape[1]\n",
    "        result = np.zeros((N))\n",
    "\n",
    "        for i in range(N):\n",
    "            prob = np.zeros((self.nb_classes, self.nb_comp))\n",
    "            for k in range(self.nb_classes):\n",
    "                x = data[:, i]\n",
    "                prob[k] = x.T.dot(self.centers_by_class[k]) + (1 - x).T.dot(self.neg_centers_by_class[k])\n",
    "            result[i] = np.unravel_index(np.argmax(prob), (self.nb_classes, self.nb_comp))[0]\n",
    "\n",
    "        return result"
   ]
  },
  {
   "cell_type": "code",
   "execution_count": 9,
   "metadata": {
    "collapsed": false
   },
   "outputs": [
    {
     "name": "stdout",
     "output_type": "stream",
     "text": [
      "Perf with 1 components 0.8434\n",
      "Perf with 2 components 0.8784\n",
      "Perf with 4 components 0.9054\n",
      "Perf with 8 components 0.9288\n"
     ]
    }
   ],
   "source": [
    "nb_components = [1, 2, 4, 8]\n",
    "\n",
    "bc = BernouilliClassifier()\n",
    "\n",
    "for i in nb_components:\n",
    "    bc.train(trainb_data, train_labels, i)\n",
    "    # Checks performance\n",
    "    out = bc.process(testb_data)\n",
    "    score = (out == test_labels).sum() / test_labels.shape[0]\n",
    "    print(\"Perf with\", i, \"components\", score)"
   ]
  },
  {
   "cell_type": "markdown",
   "metadata": {},
   "source": [
    "## Partie 3 : Comparaison avec un GMM"
   ]
  },
  {
   "cell_type": "markdown",
   "metadata": {
    "collapsed": true
   },
   "source": [
    "Comparer les résultats obtenus avec le cas d'un mélange de gaussiennes sur les données brutes TRAIN et TEST."
   ]
  },
  {
   "cell_type": "markdown",
   "metadata": {},
   "source": [
    "* On a $N(X; \\mu, \\Theta) = \\frac{1}{\\sqrt{(2\\pi)^D|\\Theta|}} exp(-0.5(X - \\mu)^T\\Theta^{-1}(X - \\mu))$\n",
    "* La vraisemblance : $P(k|X) = \\frac{w_k N(X;\\mu_k,\\Theta_k)}{\\sum_{j=1}^{N}{w_j N(X,\\mu_j,\\Theta_j)}}$\n",
    "* $P(k) = \\frac{\\sum_{i=1}^{N}{P(k|X_i)}}{N}$\n",
    "* $\\mu_k = \\frac{\\sum_{i=1}^{N}{P(k|X_i)X_i}}{\\sum_{i=1}^{N}{P(k|X_i)}}$\n",
    "* $\\Theta_k = \\frac{\\sum_{i=1}^{N}{P(k|X_i)(X_i - \\mu_k)(X_i - \\mu_k)^T}}{\\sum_{i=1}^{N}{P(k|X_i)}}$"
   ]
  },
  {
   "cell_type": "code",
   "execution_count": 10,
   "metadata": {
    "collapsed": false
   },
   "outputs": [],
   "source": [
    "class EmGaussian:\n",
    "    l2pi = np.log(2 * np.pi)   \n",
    "\n",
    "    def _compute_cov_det_inv(self, i):\n",
    "        self.cov[i] += self.diag\n",
    "        self.inv_cov[i] = np.linalg.pinv(self.cov[i])\n",
    "        self.det_cov[i] = np.linalg.det(self.cov[i])\n",
    "\n",
    "    def _init_data(self):\n",
    "        D, N = self.data.shape\n",
    "        self.W = np.repeat(1 / self.nb_components, self.nb_components)\n",
    "        self.center = np.zeros((D, self.nb_components))\n",
    "        self.cov = np.zeros((self.nb_components, D, D))\n",
    "        self.inv_cov = np.zeros((self.nb_components, D, D))\n",
    "        self.det_cov = np.zeros(self.nb_components)\n",
    "        minimages = N // 4\n",
    "\n",
    "        for i in range(self.nb_components):\n",
    "            mini = 0\n",
    "            maxi = rd.randint(minimages, N)\n",
    "            self.center[:, i] = np.mean(self.data[:, mini:maxi], axis=1)\n",
    "            self.cov[i] = np.eye(D) * self.nb_components\n",
    "            self._compute_cov_det_inv(i)\n",
    "\n",
    "\n",
    "    def __init__(self, data, nb_components, diag_version, delta=1e-2):\n",
    "        self.data = data\n",
    "        self.nb_components = nb_components\n",
    "        self.delta = delta\n",
    "        self.diag_version = diag_version\n",
    "        self.diag = 1e-3 * np.eye(self.data.shape[0])\n",
    "        \n",
    "    def computeEM(self):\n",
    "        self._init_data()\n",
    "\n",
    "        while True:\n",
    "            self._expectationStep()\n",
    "            old_center = self.center\n",
    "            self._maximizationStep()\n",
    "            diff = np.sum(np.abs(self.center - old_center))\n",
    "            # print(\"Diff:\", diff)\n",
    "            if diff < self.delta:\n",
    "                #print(\"EM GMM done!\")\n",
    "                return self.W, self.center, self.cov, self.inv_cov, self.det_cov\n",
    "\n",
    "    def _gaussian(self, n, k):\n",
    "        # Here, we have to use the logarithm\n",
    "        # in order to store the value in a double\n",
    "        D = self.data.shape[0]\n",
    "        xcentered = self.data[:, n] - self.center[:, k]\n",
    "\n",
    "        a = xcentered.T.dot(self.inv_cov[k]).dot(xcentered)\n",
    "        ldet = np.log(self.det_cov[k])\n",
    "        res = -0.5 * (D * self.l2pi + ldet + a)\n",
    "        return res\n",
    "\n",
    "    def _expectationStep(self):\n",
    "        D, N = self.data.shape # Number of data, pixels.\n",
    "        K = self.W.shape[0] # Number of components.\n",
    "        self.tabl = np.zeros((N, K))\n",
    "        \n",
    "        # Likelihood\n",
    "        for n in range(N):\n",
    "            for k in range(K):\n",
    "                # Probability for the image to be from K class.\n",
    "                self.tabl[n, k] = self._gaussian(n, k) + np.log(self.W[k])\n",
    "            \n",
    "            max_value = np.amax(self.tabl[n, :])\n",
    "            norm_tabl = self.tabl[n, :] - max_value\n",
    "            tabl_sum = np.sum(np.exp(norm_tabl))\n",
    "            self.tabl[n, :] = np.exp(norm_tabl - np.log(tabl_sum))\n",
    "\n",
    "\n",
    "    def _maximizationStep(self):\n",
    "        N, K = self.tabl.shape # Number of data, components.\n",
    "        D = self.data.shape[0] # Number of pixels.\n",
    "        t_sum = np.sum(self.tabl, axis=0)\n",
    "\n",
    "        # Weights\n",
    "        self.W =  t_sum / N\n",
    "        # Means\n",
    "        self.center = self.data.dot(self.tabl) / t_sum\n",
    "        \n",
    "        # Covariances\n",
    "        for k in range(K):\n",
    "            mu_k = np.tile(self.center[:, k].reshape((-1, 1)), (1, N))\n",
    "            x_centered = self.data - mu_k\n",
    "            cov = np.zeros((D, D))\n",
    "            for i in range(N):\n",
    "                cov += self.tabl[i, k] * x_centered[:, i].dot(x_centered[:, i].T)\n",
    "            self.cov[k] = cov / t_sum[k]\n",
    "            self._compute_cov_det_inv(k)"
   ]
  },
  {
   "cell_type": "code",
   "execution_count": 11,
   "metadata": {
    "collapsed": true
   },
   "outputs": [],
   "source": [
    "from sklearn.decomposition import PCA\n",
    "\n",
    "pca = PCA(n_components=100)\n",
    "\n",
    "pca.fit(train_data.T)\n",
    "train_pca = pca.transform(train_data.T).T\n",
    "test_pca = pca.transform(test_data.T).T"
   ]
  },
  {
   "cell_type": "code",
   "execution_count": 12,
   "metadata": {
    "collapsed": false
   },
   "outputs": [
    {
     "data": {
      "image/png": "[encoded data removed]",
      "text/plain": [
       "<matplotlib.figure.Figure at 0x7ff8f5eb4240>"
      ]
     },
     "metadata": {},
     "output_type": "display_data"
    }
   ],
   "source": [
    "pca.fit(train_classes[3].T)\n",
    "train_1_pca = pca.transform(train_classes[3].T).T\n",
    "\n",
    "emg = EmGaussian(train_1_pca, 4, True)\n",
    "_, center, _, _, _ = emg.computeEM()\n",
    "\n",
    "invpcacenter = pca.inverse_transform(center.T).T\n",
    "vz.plotGroupImages(invpcacenter)"
   ]
  },
  {
   "cell_type": "code",
   "execution_count": 13,
   "metadata": {
    "collapsed": true
   },
   "outputs": [],
   "source": [
    "class GaussianClassifier: \n",
    "    l2pi = np.log(2 * np.pi)\n",
    "\n",
    "    def train(self, train_data, train_labels, nb_comp, diag_version=False):  \n",
    "        self.nb_classes = np.unique(train_labels).shape[0]\n",
    "        self.train_data = train_data\n",
    "        self.train_labels = train_labels\n",
    "        self.nb_comp = nb_comp\n",
    "        D, _ = train_data.shape\n",
    "        self.centers_by_class = np.zeros((self.nb_classes, D, self.nb_comp))\n",
    "        \n",
    "        self.inv_covs_by_class = np.zeros((self.nb_classes, self.nb_comp, D, D))\n",
    "        self.ldet_covs_by_class = np.zeros((self.nb_classes, self.nb_comp))\n",
    "    \n",
    "        for i in range(self.nb_classes):\n",
    "            emg = EmGaussian(self.train_data[:, np.where(train_labels == i)[0]], self.nb_comp, diag_version)\n",
    "            _, center, _, inv_cov, det_cov = emg.computeEM()\n",
    "            \n",
    "            self.centers_by_class[i] = center\n",
    "            self.inv_covs_by_class[i] = inv_cov\n",
    "            self.ldet_covs_by_class[i] = np.log(det_cov)\n",
    "            \n",
    "    def process(self, data):\n",
    "        D, N = data.shape\n",
    "        result = np.zeros((N))\n",
    "        \n",
    "        for i in range(N):\n",
    "            prob = np.zeros((self.nb_classes, self.nb_comp))\n",
    "            x = data[:, i]\n",
    "            \n",
    "            for k in range(self.nb_classes):\n",
    "                for j in range(self.nb_comp):\n",
    "                    xcentered = x - self.centers_by_class[k,:, j]\n",
    "                    a = xcentered.T.dot(self.inv_covs_by_class[k, j]).dot(xcentered)\n",
    "                    ldet = self.ldet_covs_by_class[k, j]\n",
    "                    prob[k, j] = -0.5 * (D * self.l2pi + ldet + a)\n",
    "            \n",
    "            result[i] = np.unravel_index(np.argmax(prob), (self.nb_classes, self.nb_comp))[0]\n",
    "        \n",
    "        return result"
   ]
  },
  {
   "cell_type": "code",
   "execution_count": 14,
   "metadata": {
    "collapsed": false
   },
   "outputs": [],
   "source": [
    "gc = GaussianClassifier()\n",
    "\n",
    "def gaussian_perf(nb_components, diag_version):\n",
    "    for i in nb_components:\n",
    "        gc.train(train_pca, train_labels, i, diag_version)\n",
    "        out = gc.process(test_pca)\n",
    "        score = (out == test_labels).sum() / test_labels.shape[0]\n",
    "        print(\"Perf with\", i, \"components\", score)"
   ]
  },
  {
   "cell_type": "code",
   "execution_count": 17,
   "metadata": {
    "collapsed": false
   },
   "outputs": [
    {
     "name": "stdout",
     "output_type": "stream",
     "text": [
      "GMM with full covariance matrix\n",
      "Perf with 1 components 0.8196\n",
      "Perf with 2 components 0.8619\n",
      "Perf with 4 components 0.8906\n",
      "Perf with 8 components 0.9193\n"
     ]
    }
   ],
   "source": [
    "nb_components = [1, 2, 4, 8]\n",
    "\n",
    "print(\"GMM with full covariance matrix\")\n",
    "gaussian_perf(nb_components, False)"
   ]
  }
 ],
 "metadata": {
  "kernelspec": {
   "display_name": "Python 3",
   "language": "python",
   "name": "python3"
  },
  "language_info": {
   "codemirror_mode": {
    "name": "ipython",
    "version": 3
   },
   "file_extension": ".py",
   "mimetype": "text/x-python",
   "name": "python",
   "nbconvert_exporter": "python",
   "pygments_lexer": "ipython3",
   "version": "3.5.2"
  }
 },
 "nbformat": 4,
 "nbformat_minor": 2
}
