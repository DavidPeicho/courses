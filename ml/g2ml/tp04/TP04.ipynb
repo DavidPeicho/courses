{
 "cells": [
  {
   "cell_type": "markdown",
   "metadata": {},
   "source": [
    "# TP04 - HMM"
   ]
  },
  {
   "cell_type": "code",
   "execution_count": 2,
   "metadata": {},
   "outputs": [
    {
     "name": "stdout",
     "output_type": "stream",
     "text": [
      "(27, 2)\n",
      "(60, 2)\n"
     ]
    },
    {
     "data": {
      "image/png": "[encoded data removed]",
      "text/plain": [
       "<matplotlib.figure.Figure at 0x7f1d107c3a20>"
      ]
     },
     "metadata": {},
     "output_type": "display_data"
    }
   ],
   "source": [
    "import numpy as np\n",
    "from unipen import *\n",
    "\n",
    "train_data, train_labels = loadUnipenData(\"pendigits-orig.tra\")\n",
    "test_data, test_labels = loadUnipenData(\"pendigits-orig.tes\")\n",
    "\n",
    "print(train_data[2].shape)\n",
    "print(test_data[0].shape)\n",
    "\n",
    "plotUnipen(train_data[0])"
   ]
  },
  {
   "cell_type": "code",
   "execution_count": 45,
   "metadata": {},
   "outputs": [
    {
     "ename": "ValueError",
     "evalue": "could not broadcast input array from shape (200,2) into shape (100,2)",
     "output_type": "error",
     "traceback": [
      "\u001b[0;31m---------------------------------------------------------------------------\u001b[0m",
      "\u001b[0;31mValueError\u001b[0m                                Traceback (most recent call last)",
      "\u001b[0;32m<ipython-input-45-81dfd84a1b10>\u001b[0m in \u001b[0;36m<module>\u001b[0;34m()\u001b[0m\n\u001b[1;32m     36\u001b[0m     \u001b[0;32mreturn\u001b[0m \u001b[0mresult\u001b[0m\u001b[0;34m\u001b[0m\u001b[0m\n\u001b[1;32m     37\u001b[0m \u001b[0;34m\u001b[0m\u001b[0m\n\u001b[0;32m---> 38\u001b[0;31m \u001b[0msampling\u001b[0m\u001b[0;34m(\u001b[0m\u001b[0mtrain_data\u001b[0m\u001b[0;34m)\u001b[0m\u001b[0;34m\u001b[0m\u001b[0m\n\u001b[0m",
      "\u001b[0;32m<ipython-input-45-81dfd84a1b10>\u001b[0m in \u001b[0;36msampling\u001b[0;34m(data)\u001b[0m\n\u001b[1;32m     33\u001b[0m             \u001b[0;32melse\u001b[0m\u001b[0;34m:\u001b[0m\u001b[0;34m\u001b[0m\u001b[0m\n\u001b[1;32m     34\u001b[0m                 \u001b[0mprevious\u001b[0m \u001b[0;34m=\u001b[0m \u001b[0mnp\u001b[0m\u001b[0;34m.\u001b[0m\u001b[0mconcatenate\u001b[0m\u001b[0;34m(\u001b[0m\u001b[0;34m(\u001b[0m\u001b[0mprevious\u001b[0m\u001b[0;34m,\u001b[0m \u001b[0mmasked\u001b[0m\u001b[0;34m)\u001b[0m\u001b[0;34m,\u001b[0m \u001b[0maxis\u001b[0m\u001b[0;34m=\u001b[0m\u001b[0;36m0\u001b[0m\u001b[0;34m)\u001b[0m\u001b[0;34m\u001b[0m\u001b[0m\n\u001b[0;32m---> 35\u001b[0;31m         \u001b[0mresult\u001b[0m\u001b[0;34m[\u001b[0m\u001b[0mi\u001b[0m\u001b[0;34m]\u001b[0m \u001b[0;34m=\u001b[0m \u001b[0mprevious\u001b[0m\u001b[0;34m\u001b[0m\u001b[0m\n\u001b[0m\u001b[1;32m     36\u001b[0m     \u001b[0;32mreturn\u001b[0m \u001b[0mresult\u001b[0m\u001b[0;34m\u001b[0m\u001b[0m\n\u001b[1;32m     37\u001b[0m \u001b[0;34m\u001b[0m\u001b[0m\n",
      "\u001b[0;31mValueError\u001b[0m: could not broadcast input array from shape (200,2) into shape (100,2)"
     ]
    }
   ],
   "source": [
    "MAX_SAMPLING = 100\n",
    "\n",
    "def sampling(data):\n",
    "    result = np.empty((len(data), 100, 2))\n",
    "    for i in range(0, len(data)):\n",
    "        vec = data[i]\n",
    "        \n",
    "        params_ind = np.where(vec[:, 0] == -1)[0]        \n",
    "        ind_downs = params_ind[np.where(vec[params_ind, 1].flatten() == -1)]\n",
    "        ind_ups = params_ind[np.where(vec[params_ind, 1].flatten() == 1)]\n",
    "        \n",
    "        # Computes the factor by line\n",
    "        total_ratio = 0\n",
    "        for j in range(0, ind_downs.shape[0]):\n",
    "            line = vec[(ind_downs[j] + 1):(ind_ups[j] - 1)]\n",
    "            total_ratio += line.shape[0]\n",
    "        total_ratio = MAX_SAMPLING / total_ratio\n",
    "        \n",
    "        # Loops through every drawing\n",
    "        # as a number has several\n",
    "        previous = None\n",
    "        for j in range(0, ind_downs.shape[0]):\n",
    "            line = vec[(ind_downs[j] + 1):(ind_ups[j] - 1)]\n",
    "            length = line.shape[0]\n",
    "            new_len = (int)(length * total_ratio)\n",
    "            if new_len < 100:\n",
    "                new_len = 100\n",
    "            indices = [(int)(k * total_ratio) if k * total_ratio < length else length - 1 for k in range(0, new_len)]\n",
    "            masked = line[indices]\n",
    "            if previous is None:\n",
    "                previous = masked\n",
    "            else:\n",
    "                previous = np.concatenate((previous, masked), axis=0)\n",
    "        result[i] = previous\n",
    "    return result\n",
    "\n",
    "sampling(train_data)"
   ]
  },
  {
   "cell_type": "code",
   "execution_count": null,
   "metadata": {
    "collapsed": true
   },
   "outputs": [],
   "source": []
  },
  {
   "cell_type": "code",
   "execution_count": null,
   "metadata": {
    "collapsed": true
   },
   "outputs": [],
   "source": []
  },
  {
   "cell_type": "code",
   "execution_count": null,
   "metadata": {
    "collapsed": true
   },
   "outputs": [],
   "source": []
  }
 ],
 "metadata": {
  "kernelspec": {
   "display_name": "Python 3",
   "language": "python",
   "name": "python3"
  },
  "language_info": {
   "codemirror_mode": {
    "name": "ipython",
    "version": 3
   },
   "file_extension": ".py",
   "mimetype": "text/x-python",
   "name": "python",
   "nbconvert_exporter": "python",
   "pygments_lexer": "ipython3",
   "version": "3.5.2"
  }
 },
 "nbformat": 4,
 "nbformat_minor": 2
}
