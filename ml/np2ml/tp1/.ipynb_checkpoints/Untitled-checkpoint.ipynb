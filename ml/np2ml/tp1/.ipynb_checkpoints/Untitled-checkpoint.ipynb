{
 "cells": [
  {
   "cell_type": "markdown",
   "metadata": {},
   "source": [
    "# MLEA : Arbres de Décisions"
   ]
  },
  {
   "cell_type": "markdown",
   "metadata": {},
   "source": [
    "## ID3"
   ]
  },
  {
   "cell_type": "markdown",
   "metadata": {},
   "source": [
    "### Toy Problem: Play Tennis?"
   ]
  },
  {
   "cell_type": "markdown",
   "metadata": {},
   "source": [
    "#### Data"
   ]
  },
  {
   "cell_type": "code",
   "execution_count": 3,
   "metadata": {
    "collapsed": true
   },
   "outputs": [],
   "source": [
    "from io import StringIO\n",
    "import pandas as pd\n",
    "import numpy as np\n",
    "import ete3"
   ]
  },
  {
   "cell_type": "code",
   "execution_count": 4,
   "metadata": {
    "collapsed": true
   },
   "outputs": [],
   "source": [
    "csv_data = StringIO(\"\"\"\n",
    "Outlook,Temperature,Humidity,Wind\n",
    "Sunny,Hot,High,Weak\n",
    "Sunny,Hot,High,Strong\n",
    "Overcast,Hot,High,Weak\n",
    "Rain,Mild,High,Weak\n",
    "Rain,Cool,Normal,Weak\n",
    "Rain,Cool,Normal,Strong\n",
    "Overcast,Cool,Normal,Strong\n",
    "Sunny,Mild,High,Weak\n",
    "Sunny,Cool,Normal,Weak\n",
    "Rain,Mild,Normal,Weak\n",
    "Sunny,Mild,Normal,Strong\n",
    "Overcast,Mild,High,Strong\n",
    "Overcast,Hot,Normal,Weak\n",
    "Rain,Mild,High,Strong\n",
    "\"\"\")"
   ]
  },
  {
   "cell_type": "code",
   "execution_count": 5,
   "metadata": {
    "collapsed": true
   },
   "outputs": [],
   "source": [
    "df=pd.read_csv(csv_data, sep=',',header=0)"
   ]
  },
  {
   "cell_type": "code",
   "execution_count": 6,
   "metadata": {},
   "outputs": [
    {
     "name": "stdout",
     "output_type": "stream",
     "text": [
      "Int64Index([0, 1, 7, 8, 10], dtype='int64')\n"
     ]
    },
    {
     "data": {
      "text/html": [
       "<div>\n",
       "<style>\n",
       "    .dataframe thead tr:only-child th {\n",
       "        text-align: right;\n",
       "    }\n",
       "\n",
       "    .dataframe thead th {\n",
       "        text-align: left;\n",
       "    }\n",
       "\n",
       "    .dataframe tbody tr th {\n",
       "        vertical-align: top;\n",
       "    }\n",
       "</style>\n",
       "<table border=\"1\" class=\"dataframe\">\n",
       "  <thead>\n",
       "    <tr style=\"text-align: right;\">\n",
       "      <th></th>\n",
       "      <th>Outlook</th>\n",
       "      <th>Temperature</th>\n",
       "      <th>Humidity</th>\n",
       "      <th>Wind</th>\n",
       "    </tr>\n",
       "  </thead>\n",
       "  <tbody>\n",
       "    <tr>\n",
       "      <th>0</th>\n",
       "      <td>Sunny</td>\n",
       "      <td>Hot</td>\n",
       "      <td>High</td>\n",
       "      <td>Weak</td>\n",
       "    </tr>\n",
       "    <tr>\n",
       "      <th>1</th>\n",
       "      <td>Sunny</td>\n",
       "      <td>Hot</td>\n",
       "      <td>High</td>\n",
       "      <td>Strong</td>\n",
       "    </tr>\n",
       "    <tr>\n",
       "      <th>2</th>\n",
       "      <td>Overcast</td>\n",
       "      <td>Hot</td>\n",
       "      <td>High</td>\n",
       "      <td>Weak</td>\n",
       "    </tr>\n",
       "    <tr>\n",
       "      <th>3</th>\n",
       "      <td>Rain</td>\n",
       "      <td>Mild</td>\n",
       "      <td>High</td>\n",
       "      <td>Weak</td>\n",
       "    </tr>\n",
       "    <tr>\n",
       "      <th>4</th>\n",
       "      <td>Rain</td>\n",
       "      <td>Cool</td>\n",
       "      <td>Normal</td>\n",
       "      <td>Weak</td>\n",
       "    </tr>\n",
       "    <tr>\n",
       "      <th>5</th>\n",
       "      <td>Rain</td>\n",
       "      <td>Cool</td>\n",
       "      <td>Normal</td>\n",
       "      <td>Strong</td>\n",
       "    </tr>\n",
       "    <tr>\n",
       "      <th>6</th>\n",
       "      <td>Overcast</td>\n",
       "      <td>Cool</td>\n",
       "      <td>Normal</td>\n",
       "      <td>Strong</td>\n",
       "    </tr>\n",
       "    <tr>\n",
       "      <th>7</th>\n",
       "      <td>Sunny</td>\n",
       "      <td>Mild</td>\n",
       "      <td>High</td>\n",
       "      <td>Weak</td>\n",
       "    </tr>\n",
       "    <tr>\n",
       "      <th>8</th>\n",
       "      <td>Sunny</td>\n",
       "      <td>Cool</td>\n",
       "      <td>Normal</td>\n",
       "      <td>Weak</td>\n",
       "    </tr>\n",
       "    <tr>\n",
       "      <th>9</th>\n",
       "      <td>Rain</td>\n",
       "      <td>Mild</td>\n",
       "      <td>Normal</td>\n",
       "      <td>Weak</td>\n",
       "    </tr>\n",
       "    <tr>\n",
       "      <th>10</th>\n",
       "      <td>Sunny</td>\n",
       "      <td>Mild</td>\n",
       "      <td>Normal</td>\n",
       "      <td>Strong</td>\n",
       "    </tr>\n",
       "    <tr>\n",
       "      <th>11</th>\n",
       "      <td>Overcast</td>\n",
       "      <td>Mild</td>\n",
       "      <td>High</td>\n",
       "      <td>Strong</td>\n",
       "    </tr>\n",
       "    <tr>\n",
       "      <th>12</th>\n",
       "      <td>Overcast</td>\n",
       "      <td>Hot</td>\n",
       "      <td>Normal</td>\n",
       "      <td>Weak</td>\n",
       "    </tr>\n",
       "    <tr>\n",
       "      <th>13</th>\n",
       "      <td>Rain</td>\n",
       "      <td>Mild</td>\n",
       "      <td>High</td>\n",
       "      <td>Strong</td>\n",
       "    </tr>\n",
       "  </tbody>\n",
       "</table>\n",
       "</div>"
      ],
      "text/plain": [
       "     Outlook Temperature Humidity    Wind\n",
       "0      Sunny         Hot     High    Weak\n",
       "1      Sunny         Hot     High  Strong\n",
       "2   Overcast         Hot     High    Weak\n",
       "3       Rain        Mild     High    Weak\n",
       "4       Rain        Cool   Normal    Weak\n",
       "5       Rain        Cool   Normal  Strong\n",
       "6   Overcast        Cool   Normal  Strong\n",
       "7      Sunny        Mild     High    Weak\n",
       "8      Sunny        Cool   Normal    Weak\n",
       "9       Rain        Mild   Normal    Weak\n",
       "10     Sunny        Mild   Normal  Strong\n",
       "11  Overcast        Mild     High  Strong\n",
       "12  Overcast         Hot   Normal    Weak\n",
       "13      Rain        Mild     High  Strong"
      ]
     },
     "execution_count": 6,
     "metadata": {},
     "output_type": "execute_result"
    }
   ],
   "source": [
    "print(df.index[df.loc[:, 'Outlook'] == 'Sunny'])\n",
    "df"
   ]
  },
  {
   "cell_type": "code",
   "execution_count": 7,
   "metadata": {
    "collapsed": true
   },
   "outputs": [],
   "source": [
    "x = df\n",
    "labels = np.array([\"No\", \"No\", \"Yes\", \"Yes\", \"Yes\", \"No\", \"Yes\", \"No\", \"Yes\", \"Yes\", \"Yes\", \"Yes\", \"Yes\", \"No\"])"
   ]
  },
  {
   "cell_type": "code",
   "execution_count": 10,
   "metadata": {
    "collapsed": true
   },
   "outputs": [],
   "source": [
    "class Node:\n",
    "    def __init__(self):\n",
    "        self.attribute = None\n",
    "        self.label = None\n",
    "        self._children = {}\n",
    "        \n",
    "        # This is gross, but it allows to easily\n",
    "        # pretty print the tree.\n",
    "        self._ete3 = ete3.Tree(name=\"toto\")\n",
    "        \n",
    "    def update(self, attribute):\n",
    "        self.attribute = attribute\n",
    "        self._ete3.name = self.attribute\n",
    "        self._ete3.add_face(ete3.TextFace(attribute), column=0, position = \"branch-right\")\n",
    "    \n",
    "    def add(self, idx, attribute=None):\n",
    "        child = Node()\n",
    "        # Adds the link in the et3 hierarchy\n",
    "        self._ete3.add_child(child._ete3)\n",
    "        \n",
    "        self._children[idx] = child\n",
    "        return child\n",
    "    \n",
    "class ID3:\n",
    "    \n",
    "    @staticmethod\n",
    "    def entropy(s, unique_labels):\n",
    "        # Used to avoid having invalid value in the logarithm.\n",
    "        EPSILON = 0.0001\n",
    "        nb_rows = len(s)\n",
    "        entropy = 0.0\n",
    "        for label in unique_labels:\n",
    "            label_count = 0\n",
    "            for i in range(0, nb_rows):\n",
    "                if s[i] == label:\n",
    "                    label_count += 1\n",
    "            proba = (label_count / nb_rows) + 0.0001\n",
    "            entropy += - proba * np.log2(proba)\n",
    "        return entropy\n",
    "    \n",
    "    @staticmethod\n",
    "    def gain(s, target_attrib, attributes, x, y, unique_labels):\n",
    "        column = x.ix[:, target_attrib][s]\n",
    "        values = attributes[target_attrib]\n",
    "        nb_rows = len(s)\n",
    "        \n",
    "        gain = ID3.entropy(y[s], unique_labels)\n",
    "        \n",
    "        for value in values:\n",
    "            indices = column.index[column.loc[:] == value]\n",
    "            factor = len(indices) / nb_rows\n",
    "            y_new = y[indices.tolist()]\n",
    "            if (len(y_new) == 0):\n",
    "                continue\n",
    "            gain += - factor * ID3.entropy(y_new, unique_labels)\n",
    "            \n",
    "        return gain\n",
    "    \n",
    "    #@staticmethod\n",
    "    #def compute_x_bests():\n",
    "        \n",
    "    \n",
    "    def __init__(self, x, y):\n",
    "        # If all the labels are equals, we return a unique\n",
    "        # node.\n",
    "        label = y[0]\n",
    "        for i in range(1, len(y)):\n",
    "            if not(label == y[i]):\n",
    "                label = None\n",
    "                break\n",
    "        if not(label == None):\n",
    "            return Node(label, len(y))\n",
    "        \n",
    "        unique_labels = set(y)\n",
    "        \n",
    "        # This maps store, for all attributes, a\n",
    "        # set of unique values.\n",
    "        unique_attributes = {}\n",
    "        for column in enumerate(x.columns):\n",
    "            column_id = column[1]\n",
    "            unique_attributes[column_id] = set(x.ix[:, column_id])\n",
    "        \n",
    "        s = [i for i in range(0, len(y))]\n",
    "        self.root = Node()\n",
    "        self.root._ete3.name = \"test\"\n",
    "        self.__build(self.root, x, y, s, unique_attributes, unique_labels)\n",
    "    \n",
    "    def __build(self, node, x, y, s, attributes, unique_labels):\n",
    "        if np.unique(y[s]).shape[0] < 2:\n",
    "            return\n",
    "        from IPython.core.debugger import Tracer;\n",
    "        # Choose the best attribute for classification.\n",
    "        best_gain = -0.01\n",
    "        best_attribute = None\n",
    "        for attr in attributes:\n",
    "            gain = ID3.gain(s, attr, attributes, x, y, unique_labels)\n",
    "            if gain > best_gain:\n",
    "                best_gain = gain\n",
    "                best_attribute = attr\n",
    "                \n",
    "        if node.attribute == None:\n",
    "            node.update(best_attribute)\n",
    "        \n",
    "        column = x.ix[s, best_attribute]\n",
    "        values = attributes[best_attribute]\n",
    "        \n",
    "        del attributes[best_attribute]\n",
    "        if len(attributes) == 0:\n",
    "            return\n",
    "        for value in values:\n",
    "            # Adds a child node pointed by value, and\n",
    "            # then we can recursively create it.\n",
    "            new_s = column.index[column.loc[:] == value].tolist()\n",
    "            child = node.add(value)\n",
    "            self.__build(child, x, y, new_s, dict(attributes), unique_labels)\n",
    "        \n",
    "    def pretty_print(self):\n",
    "        ts = ete3.TreeStyle()\n",
    "        ts.show_scale = False\n",
    "        ts.show_leaf_name = True\n",
    "        ts.rotation = 90\n",
    "        return self.root._ete3.render('%%inline', w=50, units='mm', tree_style=ts)"
   ]
  },
  {
   "cell_type": "code",
   "execution_count": 11,
   "metadata": {},
   "outputs": [
    {
     "data": {
      "image/png": "[encoded data removed]",
      "text/plain": [
       "<IPython.core.display.Image object>"
      ]
     },
     "execution_count": 11,
     "metadata": {},
     "output_type": "execute_result"
    }
   ],
   "source": [
    "tree = ID3(x, labels)\n",
    "tree.pretty_print()"
   ]
  },
  {
   "cell_type": "code",
   "execution_count": null,
   "metadata": {
    "collapsed": true
   },
   "outputs": [],
   "source": []
  },
  {
   "cell_type": "code",
   "execution_count": null,
   "metadata": {
    "collapsed": true
   },
   "outputs": [],
   "source": []
  }
 ],
 "metadata": {
  "kernelspec": {
   "display_name": "Python 3",
   "language": "python",
   "name": "python3"
  },
  "language_info": {
   "codemirror_mode": {
    "name": "ipython",
    "version": 3
   },
   "file_extension": ".py",
   "mimetype": "text/x-python",
   "name": "python",
   "nbconvert_exporter": "python",
   "pygments_lexer": "ipython3",
   "version": "3.6.2"
  }
 },
 "nbformat": 4,
 "nbformat_minor": 2
}
